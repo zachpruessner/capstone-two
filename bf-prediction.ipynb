{
 "cells": [
  {
   "cell_type": "markdown",
   "metadata": {},
   "source": [
    "# Capstone Two -- Black Friday Tech Mart Sales Analysis"
   ]
  },
  {
   "cell_type": "markdown",
   "metadata": {},
   "source": [
    "This notebook dives into a dataset that contains purchase information for black friday from Tech Mart sales. The objective here is to import the data, ensure it is clean and tidy, explore it for any beneficial statistical relationships, perform pre-processing, and then finally create a model that accurately predicts the purchase price. This will inform on future business decisions."
   ]
  },
  {
   "cell_type": "code",
   "execution_count": 1,
   "metadata": {},
   "outputs": [],
   "source": [
    "# Importing all necessary modules\n",
    "import numpy as np\n",
    "import pandas as pd\n",
    "import seaborn as sns\n",
    "import matplotlib.pyplot as plt\n",
    "\n",
    "from sklearn.preprocessing import OneHotEncoder, StandardScaler\n",
    "from sklearn.linear_model import LogisticRegression, Ridge, LinearRegression\n",
    "from sklearn.ensemble import RandomForestRegressor, GradientBoostingRegressor, RandomForestClassifier\n",
    "from sklearn.svm import LinearSVR, LinearSVC\n",
    "from sklearn.model_selection import KFold, train_test_split, cross_validate\n",
    "from sklearn.metrics import mean_absolute_error, mean_squared_error, accuracy_score\n",
    "from sklearn.tree import DecisionTreeClassifier"
   ]
  },
  {
   "cell_type": "markdown",
   "metadata": {},
   "source": [
    "### Data Wrangling\n",
    "\n",
    "In this phase the data will be imported and checked for accurate definition and fidelity"
   ]
  },
  {
   "cell_type": "code",
   "execution_count": 2,
   "metadata": {},
   "outputs": [],
   "source": [
    "# Importing train and test data\n",
    "train = pd.read_csv('data/train.csv')\n",
    "test = pd.read_csv('data/test.csv')"
   ]
  },
  {
   "cell_type": "code",
   "execution_count": 3,
   "metadata": {},
   "outputs": [],
   "source": [
    "# Joining the train and test set to do perfom analysis and feature engineering.\n",
    "frames = [train, test]\n",
    "df = pd.concat(frames)"
   ]
  },
  {
   "cell_type": "code",
   "execution_count": 4,
   "metadata": {},
   "outputs": [
    {
     "name": "stdout",
     "output_type": "stream",
     "text": [
      "<class 'pandas.core.frame.DataFrame'>\n",
      "Int64Index: 783667 entries, 0 to 233598\n",
      "Data columns (total 12 columns):\n",
      " #   Column                      Non-Null Count   Dtype  \n",
      "---  ------                      --------------   -----  \n",
      " 0   User_ID                     783667 non-null  int64  \n",
      " 1   Product_ID                  783667 non-null  object \n",
      " 2   Gender                      783667 non-null  object \n",
      " 3   Age                         783667 non-null  object \n",
      " 4   Occupation                  783667 non-null  int64  \n",
      " 5   City_Category               783667 non-null  object \n",
      " 6   Stay_In_Current_City_Years  783667 non-null  object \n",
      " 7   Marital_Status              783667 non-null  int64  \n",
      " 8   Product_Category_1          783667 non-null  int64  \n",
      " 9   Product_Category_2          537685 non-null  float64\n",
      " 10  Product_Category_3          237858 non-null  float64\n",
      " 11  Purchase                    550068 non-null  float64\n",
      "dtypes: float64(3), int64(4), object(5)\n",
      "memory usage: 77.7+ MB\n"
     ]
    }
   ],
   "source": [
    "# Getting an idea of what the dataset contains.\n",
    "df.info()"
   ]
  },
  {
   "cell_type": "markdown",
   "metadata": {},
   "source": [
    "The missing values in this dataset all occur in the Product_Category 2 and 3 columns. These values will be set to 0 for now. If it is found that the value needs to be changed, that can be done later."
   ]
  },
  {
   "cell_type": "code",
   "execution_count": 5,
   "metadata": {},
   "outputs": [
    {
     "name": "stdout",
     "output_type": "stream",
     "text": [
      "(783667, 12)\n"
     ]
    },
    {
     "data": {
      "text/html": [
       "<div>\n",
       "<style scoped>\n",
       "    .dataframe tbody tr th:only-of-type {\n",
       "        vertical-align: middle;\n",
       "    }\n",
       "\n",
       "    .dataframe tbody tr th {\n",
       "        vertical-align: top;\n",
       "    }\n",
       "\n",
       "    .dataframe thead th {\n",
       "        text-align: right;\n",
       "    }\n",
       "</style>\n",
       "<table border=\"1\" class=\"dataframe\">\n",
       "  <thead>\n",
       "    <tr style=\"text-align: right;\">\n",
       "      <th></th>\n",
       "      <th>User_ID</th>\n",
       "      <th>Product_ID</th>\n",
       "      <th>Gender</th>\n",
       "      <th>Age</th>\n",
       "      <th>Occupation</th>\n",
       "      <th>City_Category</th>\n",
       "      <th>Stay_In_Current_City_Years</th>\n",
       "      <th>Marital_Status</th>\n",
       "      <th>Product_Category_1</th>\n",
       "      <th>Product_Category_2</th>\n",
       "      <th>Product_Category_3</th>\n",
       "      <th>Purchase</th>\n",
       "    </tr>\n",
       "  </thead>\n",
       "  <tbody>\n",
       "    <tr>\n",
       "      <th>0</th>\n",
       "      <td>1000001</td>\n",
       "      <td>P00069042</td>\n",
       "      <td>F</td>\n",
       "      <td>0-17</td>\n",
       "      <td>10</td>\n",
       "      <td>A</td>\n",
       "      <td>2</td>\n",
       "      <td>0</td>\n",
       "      <td>3</td>\n",
       "      <td>0.0</td>\n",
       "      <td>0.0</td>\n",
       "      <td>8370.0</td>\n",
       "    </tr>\n",
       "    <tr>\n",
       "      <th>1</th>\n",
       "      <td>1000001</td>\n",
       "      <td>P00248942</td>\n",
       "      <td>F</td>\n",
       "      <td>0-17</td>\n",
       "      <td>10</td>\n",
       "      <td>A</td>\n",
       "      <td>2</td>\n",
       "      <td>0</td>\n",
       "      <td>1</td>\n",
       "      <td>6.0</td>\n",
       "      <td>14.0</td>\n",
       "      <td>15200.0</td>\n",
       "    </tr>\n",
       "    <tr>\n",
       "      <th>2</th>\n",
       "      <td>1000001</td>\n",
       "      <td>P00087842</td>\n",
       "      <td>F</td>\n",
       "      <td>0-17</td>\n",
       "      <td>10</td>\n",
       "      <td>A</td>\n",
       "      <td>2</td>\n",
       "      <td>0</td>\n",
       "      <td>12</td>\n",
       "      <td>0.0</td>\n",
       "      <td>0.0</td>\n",
       "      <td>1422.0</td>\n",
       "    </tr>\n",
       "    <tr>\n",
       "      <th>3</th>\n",
       "      <td>1000001</td>\n",
       "      <td>P00085442</td>\n",
       "      <td>F</td>\n",
       "      <td>0-17</td>\n",
       "      <td>10</td>\n",
       "      <td>A</td>\n",
       "      <td>2</td>\n",
       "      <td>0</td>\n",
       "      <td>12</td>\n",
       "      <td>14.0</td>\n",
       "      <td>0.0</td>\n",
       "      <td>1057.0</td>\n",
       "    </tr>\n",
       "    <tr>\n",
       "      <th>4</th>\n",
       "      <td>1000002</td>\n",
       "      <td>P00285442</td>\n",
       "      <td>M</td>\n",
       "      <td>55+</td>\n",
       "      <td>16</td>\n",
       "      <td>C</td>\n",
       "      <td>4+</td>\n",
       "      <td>0</td>\n",
       "      <td>8</td>\n",
       "      <td>0.0</td>\n",
       "      <td>0.0</td>\n",
       "      <td>7969.0</td>\n",
       "    </tr>\n",
       "  </tbody>\n",
       "</table>\n",
       "</div>"
      ],
      "text/plain": [
       "   User_ID Product_ID Gender   Age  Occupation City_Category  \\\n",
       "0  1000001  P00069042      F  0-17          10             A   \n",
       "1  1000001  P00248942      F  0-17          10             A   \n",
       "2  1000001  P00087842      F  0-17          10             A   \n",
       "3  1000001  P00085442      F  0-17          10             A   \n",
       "4  1000002  P00285442      M   55+          16             C   \n",
       "\n",
       "  Stay_In_Current_City_Years  Marital_Status  Product_Category_1  \\\n",
       "0                          2               0                   3   \n",
       "1                          2               0                   1   \n",
       "2                          2               0                  12   \n",
       "3                          2               0                  12   \n",
       "4                         4+               0                   8   \n",
       "\n",
       "   Product_Category_2  Product_Category_3  Purchase  \n",
       "0                 0.0                 0.0    8370.0  \n",
       "1                 6.0                14.0   15200.0  \n",
       "2                 0.0                 0.0    1422.0  \n",
       "3                14.0                 0.0    1057.0  \n",
       "4                 0.0                 0.0    7969.0  "
      ]
     },
     "execution_count": 5,
     "metadata": {},
     "output_type": "execute_result"
    }
   ],
   "source": [
    "# Checking shape of dataframe and filling all na values with 0\n",
    "print(df.shape)\n",
    "df.fillna(0, inplace=True)\n",
    "df.head()"
   ]
  },
  {
   "cell_type": "code",
   "execution_count": 6,
   "metadata": {
    "scrolled": true
   },
   "outputs": [
    {
     "name": "stdout",
     "output_type": "stream",
     "text": [
      "<class 'pandas.core.frame.DataFrame'>\n",
      "Int64Index: 783667 entries, 0 to 233598\n",
      "Data columns (total 12 columns):\n",
      " #   Column                      Non-Null Count   Dtype  \n",
      "---  ------                      --------------   -----  \n",
      " 0   User_ID                     783667 non-null  int64  \n",
      " 1   Product_ID                  783667 non-null  object \n",
      " 2   Gender                      783667 non-null  object \n",
      " 3   Age                         783667 non-null  object \n",
      " 4   Occupation                  783667 non-null  int64  \n",
      " 5   City_Category               783667 non-null  object \n",
      " 6   Stay_In_Current_City_Years  783667 non-null  object \n",
      " 7   Marital_Status              783667 non-null  int64  \n",
      " 8   Product_Category_1          783667 non-null  int64  \n",
      " 9   Product_Category_2          783667 non-null  float64\n",
      " 10  Product_Category_3          783667 non-null  float64\n",
      " 11  Purchase                    783667 non-null  float64\n",
      "dtypes: float64(3), int64(4), object(5)\n",
      "memory usage: 77.7+ MB\n"
     ]
    }
   ],
   "source": [
    "# Checking for any other issues in the dataframe\n",
    "df.info()"
   ]
  },
  {
   "cell_type": "markdown",
   "metadata": {},
   "source": [
    "### Exploratory Data Analysis\n",
    "\n",
    "\n",
    "This section will delve into the nature of the data. Distributions will be analyzed and columns will be explored to futher understand what the data is doing and how it might affect modeling."
   ]
  },
  {
   "cell_type": "code",
   "execution_count": 7,
   "metadata": {
    "scrolled": true
   },
   "outputs": [
    {
     "data": {
      "text/plain": [
       "count    783667.000000\n",
       "mean       6502.523064\n",
       "std        5972.146799\n",
       "min           0.000000\n",
       "25%           0.000000\n",
       "50%        6062.000000\n",
       "75%        9927.000000\n",
       "max       23961.000000\n",
       "Name: Purchase, dtype: float64"
      ]
     },
     "execution_count": 7,
     "metadata": {},
     "output_type": "execute_result"
    }
   ],
   "source": [
    "# Checking some simple stats on the Purchase(target) column.\n",
    "df.Purchase.describe()"
   ]
  },
  {
   "cell_type": "code",
   "execution_count": 8,
   "metadata": {},
   "outputs": [
    {
     "data": {
      "text/plain": [
       "4     103086\n",
       "0      98850\n",
       "7      84127\n",
       "1      67687\n",
       "17     57418\n",
       "20     47840\n",
       "12     44448\n",
       "14     38782\n",
       "2      37996\n",
       "16     36122\n",
       "6      29102\n",
       "3      25126\n",
       "10     18304\n",
       "5      17373\n",
       "15     17356\n",
       "11     16593\n",
       "19     11919\n",
       "13     11053\n",
       "18      9367\n",
       "9       8929\n",
       "8       2189\n",
       "Name: Occupation, dtype: int64"
      ]
     },
     "execution_count": 8,
     "metadata": {},
     "output_type": "execute_result"
    }
   ],
   "source": [
    "# Checking the amount of unique values and their counts in the occupation column to determine how to treat it\n",
    "df['Occupation'].value_counts()"
   ]
  },
  {
   "cell_type": "code",
   "execution_count": 9,
   "metadata": {
    "scrolled": true
   },
   "outputs": [
    {
     "data": {
      "text/plain": [
       "1     276425\n",
       "2     145427\n",
       "3     135428\n",
       "4+    120671\n",
       "0     105716\n",
       "Name: Stay_In_Current_City_Years, dtype: int64"
      ]
     },
     "execution_count": 9,
     "metadata": {},
     "output_type": "execute_result"
    }
   ],
   "source": [
    "df['Stay_In_Current_City_Years'].value_counts()"
   ]
  },
  {
   "cell_type": "code",
   "execution_count": 10,
   "metadata": {},
   "outputs": [],
   "source": [
    "# Removing the '+' from the stay_in_current_city_years column and converting to numeric\n",
    "df['Stay_In_Current_City_Years'] = pd.to_numeric(df['Stay_In_Current_City_Years']\\\n",
    "                                                    .str.replace('+', ''))"
   ]
  },
  {
   "cell_type": "code",
   "execution_count": 11,
   "metadata": {},
   "outputs": [
    {
     "data": {
      "text/plain": [
       "26-35    313015\n",
       "36-45    156724\n",
       "18-25    141953\n",
       "46-50     65278\n",
       "51-55     54784\n",
       "55+       30579\n",
       "0-17      21334\n",
       "Name: Age, dtype: int64"
      ]
     },
     "execution_count": 11,
     "metadata": {},
     "output_type": "execute_result"
    }
   ],
   "source": [
    "# checking age column\n",
    "df.Age.value_counts()"
   ]
  },
  {
   "cell_type": "code",
   "execution_count": 12,
   "metadata": {
    "scrolled": true
   },
   "outputs": [
    {
     "data": {
      "text/plain": [
       "<AxesSubplot:>"
      ]
     },
     "execution_count": 12,
     "metadata": {},
     "output_type": "execute_result"
    },
    {
     "data": {
      "image/png": "[encoded data removed]",
      "text/plain": [
       "<Figure size 432x288 with 1 Axes>"
      ]
     },
     "metadata": {
      "needs_background": "light"
     },
     "output_type": "display_data"
    }
   ],
   "source": [
    "# plotting a distribution of the age column\n",
    "df.Age.hist(bins=7)"
   ]
  },
  {
   "cell_type": "markdown",
   "metadata": {},
   "source": [
    "The average purchase price is around 9200. With a min of 12 and a max of 23900"
   ]
  },
  {
   "cell_type": "code",
   "execution_count": 13,
   "metadata": {},
   "outputs": [],
   "source": [
    "# Removing the ID columns as they are not usefull in predicting the purchase price\n",
    "df.drop(columns=['Product_ID', 'User_ID'], inplace=True)"
   ]
  },
  {
   "cell_type": "code",
   "execution_count": 14,
   "metadata": {
    "scrolled": false
   },
   "outputs": [
    {
     "data": {
      "text/plain": [
       "array([[<AxesSubplot:title={'center':'Occupation'}>,\n",
       "        <AxesSubplot:title={'center':'Stay_In_Current_City_Years'}>,\n",
       "        <AxesSubplot:title={'center':'Marital_Status'}>],\n",
       "       [<AxesSubplot:title={'center':'Product_Category_1'}>,\n",
       "        <AxesSubplot:title={'center':'Product_Category_2'}>,\n",
       "        <AxesSubplot:title={'center':'Product_Category_3'}>],\n",
       "       [<AxesSubplot:title={'center':'Purchase'}>, <AxesSubplot:>,\n",
       "        <AxesSubplot:>]], dtype=object)"
      ]
     },
     "execution_count": 14,
     "metadata": {},
     "output_type": "execute_result"
    },
    {
     "data": {
      "image/png": "[encoded data removed]",
      "text/plain": [
       "<Figure size 864x720 with 9 Axes>"
      ]
     },
     "metadata": {
      "needs_background": "light"
     },
     "output_type": "display_data"
    }
   ],
   "source": [
    "# Checking the distribution on applicable columns\n",
    "df.hist(figsize=(12,10))"
   ]
  },
  {
   "cell_type": "markdown",
   "metadata": {},
   "source": [
    "The Purchase column more closely resembles a normal(gaussian) distribution. This is good. But it can be better. Later on all entries in the purchase column equal to 0 will be removed."
   ]
  },
  {
   "cell_type": "code",
   "execution_count": 15,
   "metadata": {},
   "outputs": [
    {
     "data": {
      "text/plain": [
       "<AxesSubplot:xlabel='Age', ylabel='Purchase'>"
      ]
     },
     "execution_count": 15,
     "metadata": {},
     "output_type": "execute_result"
    },
    {
     "data": {
      "image/png": "[encoded data removed]",
      "text/plain": [
       "<Figure size 432x288 with 1 Axes>"
      ]
     },
     "metadata": {
      "needs_background": "light"
     },
     "output_type": "display_data"
    }
   ],
   "source": [
    "# Checking the distribution of purchase price per age group\n",
    "sns.boxplot(x='Age', y='Purchase', data=df)"
   ]
  },
  {
   "cell_type": "markdown",
   "metadata": {},
   "source": [
    "The purchase price is appears to be evenly distributed between all age groups"
   ]
  },
  {
   "cell_type": "code",
   "execution_count": 16,
   "metadata": {},
   "outputs": [
    {
     "data": {
      "text/plain": [
       "<AxesSubplot:xlabel='Marital_Status', ylabel='Purchase'>"
      ]
     },
     "execution_count": 16,
     "metadata": {},
     "output_type": "execute_result"
    },
    {
     "data": {
      "image/png": "[encoded data removed]",
      "text/plain": [
       "<Figure size 432x288 with 1 Axes>"
      ]
     },
     "metadata": {
      "needs_background": "light"
     },
     "output_type": "display_data"
    }
   ],
   "source": [
    "sns.boxplot(x='Marital_Status', y='Purchase', data=df)"
   ]
  },
  {
   "cell_type": "markdown",
   "metadata": {},
   "source": [
    "Marital status seems to have no effect on purchase price"
   ]
  },
  {
   "cell_type": "code",
   "execution_count": 17,
   "metadata": {},
   "outputs": [
    {
     "data": {
      "text/plain": [
       "<AxesSubplot:xlabel='Gender', ylabel='Purchase'>"
      ]
     },
     "execution_count": 17,
     "metadata": {},
     "output_type": "execute_result"
    },
    {
     "data": {
      "image/png": "[encoded data removed]",
      "text/plain": [
       "<Figure size 432x288 with 1 Axes>"
      ]
     },
     "metadata": {
      "needs_background": "light"
     },
     "output_type": "display_data"
    }
   ],
   "source": [
    "sns.boxplot(x='Gender', y='Purchase', data=df)"
   ]
  },
  {
   "cell_type": "markdown",
   "metadata": {},
   "source": [
    "A simple observation shows that males spend slightly more than females. This could simply be a quirk of this particular dataset and not representative of the whole."
   ]
  },
  {
   "cell_type": "code",
   "execution_count": 18,
   "metadata": {},
   "outputs": [
    {
     "data": {
      "text/plain": [
       "<AxesSubplot:xlabel='City_Category', ylabel='Purchase'>"
      ]
     },
     "execution_count": 18,
     "metadata": {},
     "output_type": "execute_result"
    },
    {
     "data": {
      "image/png": "[encoded data removed]",
      "text/plain": [
       "<Figure size 432x288 with 1 Axes>"
      ]
     },
     "metadata": {
      "needs_background": "light"
     },
     "output_type": "display_data"
    }
   ],
   "source": [
    "sns.boxplot(x='City_Category', y='Purchase', data=df)"
   ]
  },
  {
   "cell_type": "markdown",
   "metadata": {},
   "source": [
    "City category C spends slightly more than the other two categories"
   ]
  },
  {
   "cell_type": "code",
   "execution_count": 19,
   "metadata": {
    "scrolled": true
   },
   "outputs": [
    {
     "data": {
      "text/plain": [
       "Index(['Gender', 'Age', 'Occupation', 'City_Category',\n",
       "       'Stay_In_Current_City_Years', 'Marital_Status', 'Product_Category_1',\n",
       "       'Product_Category_2', 'Product_Category_3', 'Purchase'],\n",
       "      dtype='object')"
      ]
     },
     "execution_count": 19,
     "metadata": {},
     "output_type": "execute_result"
    }
   ],
   "source": [
    "# Getting the columns for reference\n",
    "df.columns"
   ]
  },
  {
   "cell_type": "markdown",
   "metadata": {},
   "source": [
    "### Pre-Processing"
   ]
  },
  {
   "cell_type": "code",
   "execution_count": 20,
   "metadata": {},
   "outputs": [],
   "source": [
    "# Making a list of categoricals to generate dummies from.\n",
    "categoricals = ['Gender', 'Age', 'Occupation', 'City_Category', 'Marital_Status', 'Product_Category_1',\n",
    "       'Product_Category_2', 'Product_Category_3']"
   ]
  },
  {
   "cell_type": "code",
   "execution_count": 21,
   "metadata": {},
   "outputs": [
    {
     "name": "stdout",
     "output_type": "stream",
     "text": [
      "<class 'pandas.core.frame.DataFrame'>\n",
      "Int64Index: 783667 entries, 0 to 233598\n",
      "Data columns (total 19 columns):\n",
      " #   Column                      Non-Null Count   Dtype  \n",
      "---  ------                      --------------   -----  \n",
      " 0   Occupation                  783667 non-null  int64  \n",
      " 1   Marital_Status              783667 non-null  int64  \n",
      " 2   Product_Category_1          783667 non-null  int64  \n",
      " 3   Product_Category_2          783667 non-null  float64\n",
      " 4   Product_Category_3          783667 non-null  float64\n",
      " 5   Gender_F                    783667 non-null  uint8  \n",
      " 6   Gender_M                    783667 non-null  uint8  \n",
      " 7   Age_0-17                    783667 non-null  uint8  \n",
      " 8   Age_18-25                   783667 non-null  uint8  \n",
      " 9   Age_26-35                   783667 non-null  uint8  \n",
      " 10  Age_36-45                   783667 non-null  uint8  \n",
      " 11  Age_46-50                   783667 non-null  uint8  \n",
      " 12  Age_51-55                   783667 non-null  uint8  \n",
      " 13  Age_55+                     783667 non-null  uint8  \n",
      " 14  City_Category_A             783667 non-null  uint8  \n",
      " 15  City_Category_B             783667 non-null  uint8  \n",
      " 16  City_Category_C             783667 non-null  uint8  \n",
      " 17  Stay_In_Current_City_Years  783667 non-null  int64  \n",
      " 18  Purchase                    783667 non-null  float64\n",
      "dtypes: float64(3), int64(4), uint8(12)\n",
      "memory usage: 76.8 MB\n"
     ]
    }
   ],
   "source": [
    "# creating a df with just the categoricals in it\n",
    "df_cat = df[categoricals]\n",
    "# creating a df with just numeric values in it\n",
    "df_num = df.drop(columns=categoricals)\n",
    "# getting the dummies for the categorical df\n",
    "df_dummies = pd.get_dummies(df_cat)\n",
    "# joing the numeric and categorical df now that the encoding is complete\n",
    "df_enc = pd.concat([df_dummies, df_num], axis=1)\n",
    "# checking work\n",
    "df_enc.info()"
   ]
  },
  {
   "cell_type": "code",
   "execution_count": 22,
   "metadata": {},
   "outputs": [
    {
     "data": {
      "text/html": [
       "<div>\n",
       "<style scoped>\n",
       "    .dataframe tbody tr th:only-of-type {\n",
       "        vertical-align: middle;\n",
       "    }\n",
       "\n",
       "    .dataframe tbody tr th {\n",
       "        vertical-align: top;\n",
       "    }\n",
       "\n",
       "    .dataframe thead th {\n",
       "        text-align: right;\n",
       "    }\n",
       "</style>\n",
       "<table border=\"1\" class=\"dataframe\">\n",
       "  <thead>\n",
       "    <tr style=\"text-align: right;\">\n",
       "      <th></th>\n",
       "      <th>Occupation</th>\n",
       "      <th>Marital_Status</th>\n",
       "      <th>Product_Category_1</th>\n",
       "      <th>Product_Category_2</th>\n",
       "      <th>Product_Category_3</th>\n",
       "      <th>Gender_F</th>\n",
       "      <th>Gender_M</th>\n",
       "      <th>Age_0-17</th>\n",
       "      <th>Age_18-25</th>\n",
       "      <th>Age_26-35</th>\n",
       "      <th>Age_36-45</th>\n",
       "      <th>Age_46-50</th>\n",
       "      <th>Age_51-55</th>\n",
       "      <th>Age_55+</th>\n",
       "      <th>City_Category_A</th>\n",
       "      <th>City_Category_B</th>\n",
       "      <th>City_Category_C</th>\n",
       "      <th>Stay_In_Current_City_Years</th>\n",
       "      <th>Purchase</th>\n",
       "    </tr>\n",
       "  </thead>\n",
       "  <tbody>\n",
       "    <tr>\n",
       "      <th>0</th>\n",
       "      <td>10</td>\n",
       "      <td>0</td>\n",
       "      <td>3</td>\n",
       "      <td>0.0</td>\n",
       "      <td>0.0</td>\n",
       "      <td>1</td>\n",
       "      <td>0</td>\n",
       "      <td>1</td>\n",
       "      <td>0</td>\n",
       "      <td>0</td>\n",
       "      <td>0</td>\n",
       "      <td>0</td>\n",
       "      <td>0</td>\n",
       "      <td>0</td>\n",
       "      <td>1</td>\n",
       "      <td>0</td>\n",
       "      <td>0</td>\n",
       "      <td>2</td>\n",
       "      <td>8370.0</td>\n",
       "    </tr>\n",
       "    <tr>\n",
       "      <th>1</th>\n",
       "      <td>10</td>\n",
       "      <td>0</td>\n",
       "      <td>1</td>\n",
       "      <td>6.0</td>\n",
       "      <td>14.0</td>\n",
       "      <td>1</td>\n",
       "      <td>0</td>\n",
       "      <td>1</td>\n",
       "      <td>0</td>\n",
       "      <td>0</td>\n",
       "      <td>0</td>\n",
       "      <td>0</td>\n",
       "      <td>0</td>\n",
       "      <td>0</td>\n",
       "      <td>1</td>\n",
       "      <td>0</td>\n",
       "      <td>0</td>\n",
       "      <td>2</td>\n",
       "      <td>15200.0</td>\n",
       "    </tr>\n",
       "    <tr>\n",
       "      <th>2</th>\n",
       "      <td>10</td>\n",
       "      <td>0</td>\n",
       "      <td>12</td>\n",
       "      <td>0.0</td>\n",
       "      <td>0.0</td>\n",
       "      <td>1</td>\n",
       "      <td>0</td>\n",
       "      <td>1</td>\n",
       "      <td>0</td>\n",
       "      <td>0</td>\n",
       "      <td>0</td>\n",
       "      <td>0</td>\n",
       "      <td>0</td>\n",
       "      <td>0</td>\n",
       "      <td>1</td>\n",
       "      <td>0</td>\n",
       "      <td>0</td>\n",
       "      <td>2</td>\n",
       "      <td>1422.0</td>\n",
       "    </tr>\n",
       "    <tr>\n",
       "      <th>3</th>\n",
       "      <td>10</td>\n",
       "      <td>0</td>\n",
       "      <td>12</td>\n",
       "      <td>14.0</td>\n",
       "      <td>0.0</td>\n",
       "      <td>1</td>\n",
       "      <td>0</td>\n",
       "      <td>1</td>\n",
       "      <td>0</td>\n",
       "      <td>0</td>\n",
       "      <td>0</td>\n",
       "      <td>0</td>\n",
       "      <td>0</td>\n",
       "      <td>0</td>\n",
       "      <td>1</td>\n",
       "      <td>0</td>\n",
       "      <td>0</td>\n",
       "      <td>2</td>\n",
       "      <td>1057.0</td>\n",
       "    </tr>\n",
       "    <tr>\n",
       "      <th>4</th>\n",
       "      <td>16</td>\n",
       "      <td>0</td>\n",
       "      <td>8</td>\n",
       "      <td>0.0</td>\n",
       "      <td>0.0</td>\n",
       "      <td>0</td>\n",
       "      <td>1</td>\n",
       "      <td>0</td>\n",
       "      <td>0</td>\n",
       "      <td>0</td>\n",
       "      <td>0</td>\n",
       "      <td>0</td>\n",
       "      <td>0</td>\n",
       "      <td>1</td>\n",
       "      <td>0</td>\n",
       "      <td>0</td>\n",
       "      <td>1</td>\n",
       "      <td>4</td>\n",
       "      <td>7969.0</td>\n",
       "    </tr>\n",
       "  </tbody>\n",
       "</table>\n",
       "</div>"
      ],
      "text/plain": [
       "   Occupation  Marital_Status  Product_Category_1  Product_Category_2  \\\n",
       "0          10               0                   3                 0.0   \n",
       "1          10               0                   1                 6.0   \n",
       "2          10               0                  12                 0.0   \n",
       "3          10               0                  12                14.0   \n",
       "4          16               0                   8                 0.0   \n",
       "\n",
       "   Product_Category_3  Gender_F  Gender_M  Age_0-17  Age_18-25  Age_26-35  \\\n",
       "0                 0.0         1         0         1          0          0   \n",
       "1                14.0         1         0         1          0          0   \n",
       "2                 0.0         1         0         1          0          0   \n",
       "3                 0.0         1         0         1          0          0   \n",
       "4                 0.0         0         1         0          0          0   \n",
       "\n",
       "   Age_36-45  Age_46-50  Age_51-55  Age_55+  City_Category_A  City_Category_B  \\\n",
       "0          0          0          0        0                1                0   \n",
       "1          0          0          0        0                1                0   \n",
       "2          0          0          0        0                1                0   \n",
       "3          0          0          0        0                1                0   \n",
       "4          0          0          0        1                0                0   \n",
       "\n",
       "   City_Category_C  Stay_In_Current_City_Years  Purchase  \n",
       "0                0                           2    8370.0  \n",
       "1                0                           2   15200.0  \n",
       "2                0                           2    1422.0  \n",
       "3                0                           2    1057.0  \n",
       "4                1                           4    7969.0  "
      ]
     },
     "execution_count": 22,
     "metadata": {},
     "output_type": "execute_result"
    }
   ],
   "source": [
    "# Ensuring everything is in order\n",
    "df_enc.head()"
   ]
  },
  {
   "cell_type": "code",
   "execution_count": 23,
   "metadata": {},
   "outputs": [],
   "source": [
    "# Setting features(X) and target(y)\n",
    "X, y = df_enc.drop(columns='Purchase'), df.Purchase"
   ]
  },
  {
   "cell_type": "code",
   "execution_count": 24,
   "metadata": {},
   "outputs": [],
   "source": [
    "# Creating first train test split\n",
    "X_train, X_test, y_train, y_test = train_test_split(X, y, test_size=0.2, random_state=42)"
   ]
  },
  {
   "cell_type": "markdown",
   "metadata": {},
   "source": [
    "### Modeling"
   ]
  },
  {
   "cell_type": "markdown",
   "metadata": {},
   "source": [
    "Below are some functions that should help speed up the process of modeling"
   ]
  },
  {
   "cell_type": "code",
   "execution_count": 25,
   "metadata": {},
   "outputs": [],
   "source": [
    "# this function runs a random forest regressor\n",
    "def model_rndfor(X, y, est, depth, rnd):\n",
    "    model = RandomForestRegressor(n_estimators=est, max_depth=depth, random_state=rnd)\n",
    "    fit_model = model.fit(X, y)\n",
    "    return fit_model"
   ]
  },
  {
   "cell_type": "code",
   "execution_count": 26,
   "metadata": {},
   "outputs": [],
   "source": [
    "# ridge regressor\n",
    "def model_ridge(X, y):\n",
    "    model = Ridge()\n",
    "    fit_model = model.fit(X, y)\n",
    "    return fit_model"
   ]
  },
  {
   "cell_type": "code",
   "execution_count": 27,
   "metadata": {},
   "outputs": [],
   "source": [
    "# linear regressor\n",
    "def model_reg(X, y):\n",
    "    model = LinearRegression()\n",
    "    fit_model = model.fit(X, y)\n",
    "    return fit_model"
   ]
  },
  {
   "cell_type": "code",
   "execution_count": 28,
   "metadata": {},
   "outputs": [],
   "source": [
    "# the following functions score the desired model\n",
    "def model_score_train(y_train, y_pred):\n",
    "    mae_train = mean_absolute_error(y_train, y_pred)\n",
    "    mse_train = mean_squared_error(y_train, y_pred)\n",
    "    print(\"Mean Absolute Error of Train Set: \" + str(mae_train) + \"\\n Mean Squared Error of Train Set: \" + str(mse_train))\n",
    "    \n",
    "def model_score_test(y_test, y_pred):\n",
    "    mae = mean_absolute_error(y_test, y_pred)\n",
    "    mse = mean_squared_error(y_test, y_pred)\n",
    "    print(\"Mean Absolute Error of Test Set: \" + str(mae) + \"\\n Mean Squared Error of Test Set: \" + str(mse))"
   ]
  },
  {
   "cell_type": "code",
   "execution_count": 29,
   "metadata": {},
   "outputs": [
    {
     "name": "stdout",
     "output_type": "stream",
     "text": [
      "Mean Absolute Error of Train Set: 4328.583490444691\n",
      " Mean Squared Error of Train Set: 27774782.707413517\n",
      "Mean Absolute Error of Test Set: 4252.549139647958\n",
      " Mean Squared Error of Test Set: 26637404.388852246\n"
     ]
    }
   ],
   "source": [
    "# trying the first random forest regression model with 100 estimators and a depth of 10\n",
    "rndfor_fit = model_rndfor(X_test, y_test, 100, 10, 42)\n",
    "model_score_train(y_train, rndfor_fit.predict(X_train))\n",
    "model_score_test(y_test, rndfor_fit.predict(X_test))\n"
   ]
  },
  {
   "cell_type": "code",
   "execution_count": 30,
   "metadata": {
    "scrolled": true
   },
   "outputs": [
    {
     "name": "stdout",
     "output_type": "stream",
     "text": [
      "Mean Absolute Error of Train Set: 4754.922593623172\n",
      " Mean Squared Error of Train Set: 33888299.1776002\n",
      "Mean Absolute Error of Test Set: 4747.915902252476\n",
      " Mean Squared Error of Test Set: 33764200.656168014\n"
     ]
    }
   ],
   "source": [
    "# fist ridge model for comparison with the random forest model\n",
    "ridge_fit = model_ridge(X_test, y_test)\n",
    "model_score_train(y_train, ridge_fit.predict(X_train))\n",
    "model_score_test(y_test, ridge_fit.predict(X_test))"
   ]
  },
  {
   "cell_type": "code",
   "execution_count": 31,
   "metadata": {},
   "outputs": [
    {
     "name": "stdout",
     "output_type": "stream",
     "text": [
      "Mean Absolute Error of Train Set: 4754.922275164751\n",
      " Mean Squared Error of Train Set: 33888298.935023054\n",
      "Mean Absolute Error of Test Set: 4747.915618764968\n",
      " Mean Squared Error of Test Set: 33764200.65597678\n"
     ]
    }
   ],
   "source": [
    "# a linear regression model as well for comparison\n",
    "reg_fit = model_reg(X_test, y_test)\n",
    "model_score_train(y_train, reg_fit.predict(X_train))\n",
    "model_score_test(y_test, reg_fit.predict(X_test))"
   ]
  },
  {
   "cell_type": "markdown",
   "metadata": {},
   "source": [
    "The previous models show that random forest is better regarding the mae"
   ]
  },
  {
   "cell_type": "markdown",
   "metadata": {},
   "source": [
    "Changing the product category columns to categoricals and dummy encoding them for modeling"
   ]
  },
  {
   "cell_type": "code",
   "execution_count": 32,
   "metadata": {
    "collapsed": true
   },
   "outputs": [
    {
     "name": "stdout",
     "output_type": "stream",
     "text": [
      "<class 'pandas.core.frame.DataFrame'>\n",
      "Int64Index: 783667 entries, 0 to 233598\n",
      "Data columns (total 70 columns):\n",
      " #   Column                      Non-Null Count   Dtype  \n",
      "---  ------                      --------------   -----  \n",
      " 0   Occupation                  783667 non-null  int64  \n",
      " 1   Marital_Status              783667 non-null  int64  \n",
      " 2   Gender_F                    783667 non-null  uint8  \n",
      " 3   Gender_M                    783667 non-null  uint8  \n",
      " 4   Age_0-17                    783667 non-null  uint8  \n",
      " 5   Age_18-25                   783667 non-null  uint8  \n",
      " 6   Age_26-35                   783667 non-null  uint8  \n",
      " 7   Age_36-45                   783667 non-null  uint8  \n",
      " 8   Age_46-50                   783667 non-null  uint8  \n",
      " 9   Age_51-55                   783667 non-null  uint8  \n",
      " 10  Age_55+                     783667 non-null  uint8  \n",
      " 11  City_Category_A             783667 non-null  uint8  \n",
      " 12  City_Category_B             783667 non-null  uint8  \n",
      " 13  City_Category_C             783667 non-null  uint8  \n",
      " 14  Product_Category_1_1        783667 non-null  uint8  \n",
      " 15  Product_Category_1_2        783667 non-null  uint8  \n",
      " 16  Product_Category_1_3        783667 non-null  uint8  \n",
      " 17  Product_Category_1_4        783667 non-null  uint8  \n",
      " 18  Product_Category_1_5        783667 non-null  uint8  \n",
      " 19  Product_Category_1_6        783667 non-null  uint8  \n",
      " 20  Product_Category_1_7        783667 non-null  uint8  \n",
      " 21  Product_Category_1_8        783667 non-null  uint8  \n",
      " 22  Product_Category_1_9        783667 non-null  uint8  \n",
      " 23  Product_Category_1_10       783667 non-null  uint8  \n",
      " 24  Product_Category_1_11       783667 non-null  uint8  \n",
      " 25  Product_Category_1_12       783667 non-null  uint8  \n",
      " 26  Product_Category_1_13       783667 non-null  uint8  \n",
      " 27  Product_Category_1_14       783667 non-null  uint8  \n",
      " 28  Product_Category_1_15       783667 non-null  uint8  \n",
      " 29  Product_Category_1_16       783667 non-null  uint8  \n",
      " 30  Product_Category_1_17       783667 non-null  uint8  \n",
      " 31  Product_Category_1_18       783667 non-null  uint8  \n",
      " 32  Product_Category_1_19       783667 non-null  uint8  \n",
      " 33  Product_Category_1_20       783667 non-null  uint8  \n",
      " 34  Product_Category_2_0.0      783667 non-null  uint8  \n",
      " 35  Product_Category_2_2.0      783667 non-null  uint8  \n",
      " 36  Product_Category_2_3.0      783667 non-null  uint8  \n",
      " 37  Product_Category_2_4.0      783667 non-null  uint8  \n",
      " 38  Product_Category_2_5.0      783667 non-null  uint8  \n",
      " 39  Product_Category_2_6.0      783667 non-null  uint8  \n",
      " 40  Product_Category_2_7.0      783667 non-null  uint8  \n",
      " 41  Product_Category_2_8.0      783667 non-null  uint8  \n",
      " 42  Product_Category_2_9.0      783667 non-null  uint8  \n",
      " 43  Product_Category_2_10.0     783667 non-null  uint8  \n",
      " 44  Product_Category_2_11.0     783667 non-null  uint8  \n",
      " 45  Product_Category_2_12.0     783667 non-null  uint8  \n",
      " 46  Product_Category_2_13.0     783667 non-null  uint8  \n",
      " 47  Product_Category_2_14.0     783667 non-null  uint8  \n",
      " 48  Product_Category_2_15.0     783667 non-null  uint8  \n",
      " 49  Product_Category_2_16.0     783667 non-null  uint8  \n",
      " 50  Product_Category_2_17.0     783667 non-null  uint8  \n",
      " 51  Product_Category_2_18.0     783667 non-null  uint8  \n",
      " 52  Product_Category_3_0.0      783667 non-null  uint8  \n",
      " 53  Product_Category_3_3.0      783667 non-null  uint8  \n",
      " 54  Product_Category_3_4.0      783667 non-null  uint8  \n",
      " 55  Product_Category_3_5.0      783667 non-null  uint8  \n",
      " 56  Product_Category_3_6.0      783667 non-null  uint8  \n",
      " 57  Product_Category_3_8.0      783667 non-null  uint8  \n",
      " 58  Product_Category_3_9.0      783667 non-null  uint8  \n",
      " 59  Product_Category_3_10.0     783667 non-null  uint8  \n",
      " 60  Product_Category_3_11.0     783667 non-null  uint8  \n",
      " 61  Product_Category_3_12.0     783667 non-null  uint8  \n",
      " 62  Product_Category_3_13.0     783667 non-null  uint8  \n",
      " 63  Product_Category_3_14.0     783667 non-null  uint8  \n",
      " 64  Product_Category_3_15.0     783667 non-null  uint8  \n",
      " 65  Product_Category_3_16.0     783667 non-null  uint8  \n",
      " 66  Product_Category_3_17.0     783667 non-null  uint8  \n",
      " 67  Product_Category_3_18.0     783667 non-null  uint8  \n",
      " 68  Stay_In_Current_City_Years  783667 non-null  int64  \n",
      " 69  Purchase                    783667 non-null  float64\n",
      "dtypes: float64(1), int64(3), uint8(66)\n",
      "memory usage: 99.2 MB\n"
     ]
    }
   ],
   "source": [
    "# changing the column data types\n",
    "df_cat = df_cat.astype({'Product_Category_1': 'object', 'Product_Category_2': 'object', 'Product_Category_3': 'object'})\n",
    "# getting the dummies\n",
    "df_dummies = pd.get_dummies(df_cat)\n",
    "# concat \n",
    "df_enc = pd.concat([df_dummies, df_num], axis=1)\n",
    "df_enc.info()"
   ]
  },
  {
   "cell_type": "code",
   "execution_count": 33,
   "metadata": {},
   "outputs": [],
   "source": [
    "# encoded X and y\n",
    "X1, y1 = df_enc.drop(columns='Purchase'), df.Purchase"
   ]
  },
  {
   "cell_type": "code",
   "execution_count": 34,
   "metadata": {},
   "outputs": [],
   "source": [
    "# standardizing the X1 df\n",
    "ss = StandardScaler()\n",
    "X_stand = ss.fit_transform(X1)"
   ]
  },
  {
   "cell_type": "code",
   "execution_count": 35,
   "metadata": {},
   "outputs": [],
   "source": [
    "# second train test split. this time using the encoded, standardized data\n",
    "X1_train, X1_test, y1_train, y1_test = train_test_split(X_stand, y1, test_size=0.2, random_state=42)"
   ]
  },
  {
   "cell_type": "code",
   "execution_count": 36,
   "metadata": {
    "scrolled": true
   },
   "outputs": [
    {
     "name": "stdout",
     "output_type": "stream",
     "text": [
      "Random Forest score: \n",
      "Mean Absolute Error of Train Set: 4386.582575175736\n",
      " Mean Squared Error of Train Set: 28159182.951552805\n",
      "Mean Absolute Error of Test Set: 4316.035773476157\n",
      " Mean Squared Error of Test Set: 26916229.400649797\n",
      "\n",
      "\n",
      "Ridge Regression score: \n",
      "Mean Absolute Error of Train Set: 4337.719677963887\n",
      " Mean Squared Error of Train Set: 27791203.16558068\n",
      "Mean Absolute Error of Test Set: 4337.825946907134\n",
      " Mean Squared Error of Test Set: 27740571.980420116\n",
      "\n",
      "\n",
      "Linear Regression score: \n",
      "Mean Absolute Error of Train Set: 4338.541660745074\n",
      " Mean Squared Error of Train Set: 27792642.386027873\n",
      "Mean Absolute Error of Test Set: 4338.644853145161\n",
      " Mean Squared Error of Test Set: 27741073.366185326\n"
     ]
    }
   ],
   "source": [
    "# fitting and scoring the same models as before with the newly transformed data\n",
    "rndfor_fit = model_rndfor(X1_test, y1_test, 100, 10, 42)\n",
    "print('Random Forest score: ')\n",
    "model_score_train(y1_train, rndfor_fit.predict(X1_train))\n",
    "model_score_test(y1_test, rndfor_fit.predict(X1_test))\n",
    "print('\\n')\n",
    "\n",
    "ridge_fit = model_ridge(X1_test, y1_test)\n",
    "print('Ridge Regression score: ')\n",
    "model_score_train(y1_train, ridge_fit.predict(X1_train))\n",
    "model_score_test(y1_test, ridge_fit.predict(X1_test))\n",
    "print('\\n')\n",
    "\n",
    "reg_fit = model_reg(X1_test, y1_test)\n",
    "print('Linear Regression score: ')\n",
    "model_score_train(y1_train, reg_fit.predict(X1_train))\n",
    "model_score_test(y1_test, reg_fit.predict(X1_test))"
   ]
  },
  {
   "cell_type": "markdown",
   "metadata": {},
   "source": [
    "These changes don't seem to have much effect"
   ]
  },
  {
   "cell_type": "code",
   "execution_count": 37,
   "metadata": {},
   "outputs": [
    {
     "name": "stdout",
     "output_type": "stream",
     "text": [
      "Mean Absolute Error of Train Set: 4155.379829627315\n",
      " Mean Squared Error of Train Set: 30046223.49681055\n",
      "Mean Absolute Error of Test Set: 4159.425887440886\n",
      " Mean Squared Error of Test Set: 30030542.836035322\n"
     ]
    }
   ],
   "source": [
    "lsvr = LinearSVR()\n",
    "lsvr.fit(X1_train, y1_train)\n",
    "model_score_train(y1_train, lsvr.predict(X1_train))\n",
    "model_score_test(y1_test, lsvr.predict(X1_test))"
   ]
  },
  {
   "cell_type": "markdown",
   "metadata": {},
   "source": [
    "So far linearSVR is providing the best mae score"
   ]
  },
  {
   "cell_type": "markdown",
   "metadata": {},
   "source": [
    "Below the purchase column is getting all entries equal to 0 removed. New X and y variable are prepared with this differing transformation"
   ]
  },
  {
   "cell_type": "code",
   "execution_count": 38,
   "metadata": {},
   "outputs": [],
   "source": [
    "# removing all rows where purchase is 0\n",
    "# splitting the features from the target while also standardizing the features\n",
    "df_no_zeros = df_enc[df_enc['Purchase'] > 0]\n",
    "X2, y2 = ss.fit_transform(df_no_zeros.drop(columns='Purchase')), df_no_zeros.Purchase"
   ]
  },
  {
   "cell_type": "code",
   "execution_count": 39,
   "metadata": {},
   "outputs": [],
   "source": [
    "# train test split on the newly configured data\n",
    "X2_train, X2_test, y2_train, y2_test = train_test_split(X2, y2, test_size=0.2, random_state=42)"
   ]
  },
  {
   "cell_type": "code",
   "execution_count": 40,
   "metadata": {},
   "outputs": [
    {
     "name": "stdout",
     "output_type": "stream",
     "text": [
      "Mean Absolute Error of Train Set: 2189.7376320947997\n",
      " Mean Squared Error of Train Set: 9696381.938957602\n",
      "Mean Absolute Error of Test Set: 2204.7117686920137\n",
      " Mean Squared Error of Test Set: 9870467.10057396\n"
     ]
    }
   ],
   "source": [
    "# building simple linear svr model on latest data interation\n",
    "lsvr = LinearSVR(C=2)\n",
    "lsvr.fit(X2_train, y2_train)\n",
    "model_score_train(y2_train, lsvr.predict(X2_train))\n",
    "model_score_test(y2_test, lsvr.predict(X2_test))"
   ]
  },
  {
   "cell_type": "markdown",
   "metadata": {},
   "source": [
    "So far this LinearSVR model with the purchase column normalized, is the best performing."
   ]
  },
  {
   "cell_type": "markdown",
   "metadata": {},
   "source": [
    "A multi-classification approach will be utilized next. First, the purchase column will need to be split into bins."
   ]
  },
  {
   "cell_type": "code",
   "execution_count": 41,
   "metadata": {
    "scrolled": true
   },
   "outputs": [
    {
     "data": {
      "text/plain": [
       "<AxesSubplot:>"
      ]
     },
     "execution_count": 41,
     "metadata": {},
     "output_type": "execute_result"
    },
    {
     "data": {
      "image/png": "[encoded data removed]",
      "text/plain": [
       "<Figure size 432x288 with 1 Axes>"
      ]
     },
     "metadata": {
      "needs_background": "light"
     },
     "output_type": "display_data"
    }
   ],
   "source": [
    "df.Purchase.hist(bins=10)"
   ]
  },
  {
   "cell_type": "code",
   "execution_count": 42,
   "metadata": {
    "collapsed": true
   },
   "outputs": [
    {
     "name": "stderr",
     "output_type": "stream",
     "text": [
      "<ipython-input-42-5ac3a85b8782>:4: SettingWithCopyWarning: \n",
      "A value is trying to be set on a copy of a slice from a DataFrame.\n",
      "Try using .loc[row_indexer,col_indexer] = value instead\n",
      "\n",
      "See the caveats in the documentation: https://pandas.pydata.org/pandas-docs/stable/user_guide/indexing.html#returning-a-view-versus-a-copy\n",
      "  df_no_zeros['Purchase_Binned'] = pd.cut(df_no_zeros['Purchase'], bins=bins, labels=labels)\n"
     ]
    }
   ],
   "source": [
    "bins = [0, 2500, 5000, 7500, 10000, 12500, 15000, 17500, 20000, 22500, 25000]\n",
    "labels = [1, 2, 3, 4, 5, 6, 7, 8, 9, 10]\n",
    "\n",
    "df_no_zeros['Purchase_Binned'] = pd.cut(df_no_zeros['Purchase'], bins=bins, labels=labels)\n",
    "\n",
    "X, y = ss.fit_transform(df_no_zeros.drop(columns=['Purchase', 'Purchase_Binned'])), df_no_zeros.Purchase_Binned"
   ]
  },
  {
   "cell_type": "code",
   "execution_count": 43,
   "metadata": {
    "scrolled": false
   },
   "outputs": [
    {
     "data": {
      "text/plain": [
       "3     133795\n",
       "4     131900\n",
       "7      66463\n",
       "5      59974\n",
       "2      58079\n",
       "1      36844\n",
       "8      31369\n",
       "6      18953\n",
       "9      10341\n",
       "10      2350\n",
       "Name: Purchase_Binned, dtype: int64"
      ]
     },
     "execution_count": 43,
     "metadata": {},
     "output_type": "execute_result"
    }
   ],
   "source": [
    "df2 = df_no_zeros\n",
    "df2.Purchase_Binned.value_counts()"
   ]
  },
  {
   "cell_type": "markdown",
   "metadata": {},
   "source": [
    "Now to train some models"
   ]
  },
  {
   "cell_type": "code",
   "execution_count": 44,
   "metadata": {
    "collapsed": true
   },
   "outputs": [
    {
     "name": "stderr",
     "output_type": "stream",
     "text": [
      "<ipython-input-44-1ef6020f480a>:1: SettingWithCopyWarning: \n",
      "A value is trying to be set on a copy of a slice from a DataFrame\n",
      "\n",
      "See the caveats in the documentation: https://pandas.pydata.org/pandas-docs/stable/user_guide/indexing.html#returning-a-view-versus-a-copy\n",
      "  df2.Purchase_Binned.dropna(inplace=True)\n"
     ]
    }
   ],
   "source": [
    "df2.Purchase_Binned.dropna(inplace=True)"
   ]
  },
  {
   "cell_type": "code",
   "execution_count": 45,
   "metadata": {},
   "outputs": [
    {
     "name": "stdout",
     "output_type": "stream",
     "text": [
      "Mean Absolute Error of Train Set: 0.9960077663125286\n",
      " Mean Squared Error of Train Set: 2.547350509391566\n",
      "Mean Absolute Error of Test Set: 0.9997782092395849\n",
      " Mean Squared Error of Test Set: 2.5634830602761842\n"
     ]
    }
   ],
   "source": [
    "clf = RandomForestClassifier(n_estimators=100, max_depth=5, random_state=42)\n",
    "\n",
    "X_train, X_test, y_train, y_test = train_test_split(X, y, test_size=0.5, random_state=42)\n",
    "\n",
    "model = RandomForestClassifier(n_estimators=100, max_depth=5, random_state=42)\n",
    "fit_model = model.fit(X_train, y_train)\n",
    "\n",
    "model_score_train(y_train, fit_model.predict(X_train))\n",
    "model_score_test(y_test, fit_model.predict(X_test))"
   ]
  },
  {
   "cell_type": "code",
   "execution_count": 46,
   "metadata": {
    "scrolled": false
   },
   "outputs": [
    {
     "name": "stdout",
     "output_type": "stream",
     "text": [
      ">1, train: 0.352, test: 0.353\n",
      ">2, train: 0.413, test: 0.413\n",
      ">3, train: 0.423, test: 0.422\n",
      ">4, train: 0.437, test: 0.437\n",
      ">5, train: 0.445, test: 0.446\n",
      ">6, train: 0.458, test: 0.457\n",
      ">7, train: 0.467, test: 0.465\n",
      ">8, train: 0.482, test: 0.479\n",
      ">9, train: 0.488, test: 0.484\n",
      ">10, train: 0.496, test: 0.490\n",
      ">11, train: 0.503, test: 0.494\n",
      ">12, train: 0.510, test: 0.496\n",
      ">13, train: 0.517, test: 0.498\n",
      ">14, train: 0.522, test: 0.496\n",
      ">15, train: 0.529, test: 0.494\n",
      ">16, train: 0.537, test: 0.493\n",
      ">17, train: 0.546, test: 0.490\n",
      ">18, train: 0.555, test: 0.488\n",
      ">19, train: 0.564, test: 0.485\n",
      ">20, train: 0.573, test: 0.482\n"
     ]
    },
    {
     "data": {
      "image/png": "[encoded data removed]",
      "text/plain": [
       "<Figure size 432x288 with 1 Axes>"
      ]
     },
     "metadata": {
      "needs_background": "light"
     },
     "output_type": "display_data"
    }
   ],
   "source": [
    "train_scores, test_scores = list(), list()\n",
    "\n",
    "values = [i for i in range(1, 21)]\n",
    "\n",
    "for i in values:\n",
    "\n",
    "    model = DecisionTreeClassifier(max_depth=i)\n",
    "    model.fit(X_train, y_train)\n",
    "\n",
    "    train_yhat = model.predict(X_train)\n",
    "    train_acc = accuracy_score(y_train, train_yhat)\n",
    "    train_scores.append(train_acc)\n",
    "    test_yhat = model.predict(X_test)\n",
    "    test_acc = accuracy_score(y_test, test_yhat)\n",
    "    test_scores.append(test_acc)\n",
    "    print('>%d, train: %.3f, test: %.3f' % (i, train_acc, test_acc))\n",
    "\n",
    "plt.plot(values, train_scores, '-o', label='Train')\n",
    "plt.plot(values, test_scores, '-o', label='Test')\n",
    "plt.legend()\n",
    "plt.show()"
   ]
  },
  {
   "cell_type": "code",
   "execution_count": 47,
   "metadata": {
    "scrolled": false
   },
   "outputs": [
    {
     "name": "stdout",
     "output_type": "stream",
     "text": [
      ">1, train: 0.360, test: 0.361\n",
      ">2, train: 0.380, test: 0.382\n",
      ">3, train: 0.431, test: 0.431\n",
      ">4, train: 0.453, test: 0.453\n",
      ">5, train: 0.467, test: 0.466\n",
      ">6, train: 0.470, test: 0.468\n",
      ">7, train: 0.481, test: 0.478\n",
      ">8, train: 0.492, test: 0.489\n",
      ">9, train: 0.496, test: 0.492\n",
      ">10, train: 0.503, test: 0.496\n",
      ">11, train: 0.510, test: 0.501\n",
      ">12, train: 0.519, test: 0.503\n",
      ">13, train: 0.527, test: 0.503\n",
      ">14, train: 0.536, test: 0.506\n",
      ">15, train: 0.553, test: 0.506\n",
      ">16, train: 0.568, test: 0.507\n",
      ">17, train: 0.580, test: 0.507\n",
      ">18, train: 0.595, test: 0.507\n",
      ">19, train: 0.615, test: 0.505\n",
      ">20, train: 0.630, test: 0.503\n"
     ]
    },
    {
     "data": {
      "image/png": "[encoded data removed]",
      "text/plain": [
       "<Figure size 432x288 with 1 Axes>"
      ]
     },
     "metadata": {
      "needs_background": "light"
     },
     "output_type": "display_data"
    }
   ],
   "source": [
    "train_scores, test_scores = list(), list()\n",
    "\n",
    "values = [i for i in range(1, 21)]\n",
    "\n",
    "for i in values:\n",
    "\n",
    "    model = RandomForestClassifier(n_estimators=100, max_depth=i)\n",
    "    model.fit(X_train, y_train)\n",
    "\n",
    "    train_yhat = model.predict(X_train)\n",
    "    train_acc = accuracy_score(y_train, train_yhat)\n",
    "    train_scores.append(train_acc)\n",
    "    test_yhat = model.predict(X_test)\n",
    "    test_acc = accuracy_score(y_test, test_yhat)\n",
    "    test_scores.append(test_acc)\n",
    "    print('>%d, train: %.3f, test: %.3f' % (i, train_acc, test_acc))\n",
    "\n",
    "plt.plot(values, train_scores, '-o', label='Train')\n",
    "plt.plot(values, test_scores, '-o', label='Test')\n",
    "plt.legend()\n",
    "plt.show()\n"
   ]
  },
  {
   "cell_type": "markdown",
   "metadata": {},
   "source": [
    "max depth of 14 is best"
   ]
  },
  {
   "cell_type": "markdown",
   "metadata": {},
   "source": [
    "Testing other classification models"
   ]
  },
  {
   "cell_type": "code",
   "execution_count": 48,
   "metadata": {},
   "outputs": [
    {
     "name": "stdout",
     "output_type": "stream",
     "text": [
      "0.3570176778143793\n"
     ]
    }
   ],
   "source": [
    "from sklearn.ensemble import AdaBoostClassifier\n",
    "\n",
    "model = AdaBoostClassifier(n_estimators=100, random_state=42)\n",
    "model.fit(X_train, y_train)\n",
    "\n",
    "train_yhat = model.predict(X_train)\n",
    "train_acc = accuracy_score(y_train, train_yhat)\n",
    "test_yhat = model.predict(X_test)\n",
    "test_acc = accuracy_score(y_test, test_yhat)\n",
    "print(test_acc)"
   ]
  },
  {
   "cell_type": "code",
   "execution_count": 49,
   "metadata": {},
   "outputs": [
    {
     "name": "stdout",
     "output_type": "stream",
     "text": [
      "0.46580059192681633\n"
     ]
    }
   ],
   "source": [
    "from sklearn.ensemble import BaggingClassifier\n",
    "\n",
    "model = BaggingClassifier(n_estimators=10, random_state=42)\n",
    "model.fit(X_train, y_train)\n",
    "\n",
    "train_yhat = model.predict(X_train)\n",
    "train_acc = accuracy_score(y_train, train_yhat)\n",
    "test_yhat = model.predict(X_test)\n",
    "test_acc = accuracy_score(y_test, test_yhat)\n",
    "print(test_acc)"
   ]
  },
  {
   "cell_type": "code",
   "execution_count": 50,
   "metadata": {},
   "outputs": [
    {
     "name": "stdout",
     "output_type": "stream",
     "text": [
      "0.4810787029967204\n"
     ]
    }
   ],
   "source": [
    "from sklearn.ensemble import GradientBoostingClassifier\n",
    "\n",
    "model = GradientBoostingClassifier(n_estimators=100, learning_rate=1.0, max_depth=1, random_state=42)\n",
    "model.fit(X_train, y_train)\n",
    "\n",
    "train_yhat = model.predict(X_train)\n",
    "train_acc = accuracy_score(y_train, train_yhat)\n",
    "test_yhat = model.predict(X_test)\n",
    "test_acc = accuracy_score(y_test, test_yhat)\n",
    "print(test_acc)"
   ]
  },
  {
   "cell_type": "markdown",
   "metadata": {},
   "source": [
    "### Summary"
   ]
  },
  {
   "cell_type": "markdown",
   "metadata": {},
   "source": [
    "The multi-classification approach did not seem to do as well as the regression approach."
   ]
  },
  {
   "cell_type": "markdown",
   "metadata": {},
   "source": [
    "Ultimately, the best model is the Linear SVR."
   ]
  }
 ],
 "metadata": {
  "kernelspec": {
   "display_name": "Python 3",
   "language": "python",
   "name": "python3"
  },
  "language_info": {
   "codemirror_mode": {
    "name": "ipython",
    "version": 3
   },
   "file_extension": ".py",
   "mimetype": "text/x-python",
   "name": "python",
   "nbconvert_exporter": "python",
   "pygments_lexer": "ipython3",
   "version": "3.8.5"
  }
 },
 "nbformat": 4,
 "nbformat_minor": 4
}
