{
 "cells": [
  {
   "cell_type": "markdown",
   "metadata": {},
   "source": [
    "# Census Analysis"
   ]
  },
  {
   "cell_type": "markdown",
   "metadata": {},
   "source": [
    "The goal of this project is to predict income levels based on data collected in the US census. The income levels are binned at below 50K and above 50K. This is a biniary classification problem.\n",
    "The full dataset will be split into two parts. One for training at 2/3 of the full set. And the other for testing at 1/3 of the full set."
   ]
  },
  {
   "cell_type": "markdown",
   "metadata": {},
   "source": [
    "**Initial Data Wrangling and Data Collection**"
   ]
  },
  {
   "cell_type": "code",
   "execution_count": 18,
   "metadata": {},
   "outputs": [],
   "source": [
    "# Importing necessary modules\n",
    "import pandas as pd\n",
    "import numpy as np"
   ]
  },
  {
   "cell_type": "code",
   "execution_count": 19,
   "metadata": {},
   "outputs": [],
   "source": [
    "# Loading in data as csv file\n",
    "train = pd.read_csv('data/census-income-train.csv', header=None)\n",
    "test = pd.read_csv('data/census-income-test.csv')"
   ]
  },
  {
   "cell_type": "markdown",
   "metadata": {},
   "source": [
    "### Alternate Hypothesis"
   ]
  },
  {
   "cell_type": "markdown",
   "metadata": {},
   "source": [
    "Education, age, and sex have an affect on a persons income level."
   ]
  },
  {
   "cell_type": "markdown",
   "metadata": {},
   "source": [
    "After confirming one of the above hypotheses the way will be opened to perform some prediction models based on useful columns in the dataset."
   ]
  },
  {
   "cell_type": "markdown",
   "metadata": {},
   "source": [
    "### Contents\n",
    "\n",
    "1. Data Wrangling -- collect, organize, define, clean\n",
    "2. Exploratory Data Analysis"
   ]
  },
  {
   "cell_type": "markdown",
   "metadata": {},
   "source": [
    "**Initial Data Collection and Clean**"
   ]
  },
  {
   "cell_type": "code",
   "execution_count": 2,
   "metadata": {},
   "outputs": [],
   "source": [
    "# Importing necessary modules\n",
    "import pandas as pd\n",
    "import numpy as np\n",
    "import matplotlib.pyplot as plt\n",
    "import seaborn as sns\n",
    "import statsmodels.api as sm\n",
    "from statsmodels.graphics.api import abline_plot"
   ]
  },
  {
   "cell_type": "code",
   "execution_count": 3,
   "metadata": {},
   "outputs": [],
   "source": [
    "# Loading in data as csv file\n",
    "census = pd.read_csv('data/census-data.csv', header=None)"
   ]
  },
  {
   "cell_type": "code",
   "execution_count": 4,
   "metadata": {},
   "outputs": [
    {
     "data": {
      "text/html": [
       "<div>\n",
       "<style scoped>\n",
       "    .dataframe tbody tr th:only-of-type {\n",
       "        vertical-align: middle;\n",
       "    }\n",
       "\n",
       "    .dataframe tbody tr th {\n",
       "        vertical-align: top;\n",
       "    }\n",
       "\n",
       "    .dataframe thead th {\n",
       "        text-align: right;\n",
       "    }\n",
       "</style>\n",
       "<table border=\"1\" class=\"dataframe\">\n",
       "  <thead>\n",
       "    <tr style=\"text-align: right;\">\n",
       "      <th></th>\n",
       "      <th>0</th>\n",
       "      <th>1</th>\n",
       "      <th>2</th>\n",
       "      <th>3</th>\n",
       "      <th>4</th>\n",
       "      <th>5</th>\n",
       "      <th>6</th>\n",
       "      <th>7</th>\n",
       "      <th>8</th>\n",
       "      <th>9</th>\n",
       "      <th>...</th>\n",
       "      <th>32</th>\n",
       "      <th>33</th>\n",
       "      <th>34</th>\n",
       "      <th>35</th>\n",
       "      <th>36</th>\n",
       "      <th>37</th>\n",
       "      <th>38</th>\n",
       "      <th>39</th>\n",
       "      <th>40</th>\n",
       "      <th>41</th>\n",
       "    </tr>\n",
       "  </thead>\n",
       "  <tbody>\n",
       "    <tr>\n",
       "      <th>0</th>\n",
       "      <td>73</td>\n",
       "      <td>Not in universe</td>\n",
       "      <td>0</td>\n",
       "      <td>0</td>\n",
       "      <td>High school graduate</td>\n",
       "      <td>0</td>\n",
       "      <td>Not in universe</td>\n",
       "      <td>Widowed</td>\n",
       "      <td>Not in universe or children</td>\n",
       "      <td>Not in universe</td>\n",
       "      <td>...</td>\n",
       "      <td>United-States</td>\n",
       "      <td>United-States</td>\n",
       "      <td>United-States</td>\n",
       "      <td>Native- Born in the United States</td>\n",
       "      <td>0</td>\n",
       "      <td>Not in universe</td>\n",
       "      <td>2</td>\n",
       "      <td>0</td>\n",
       "      <td>95</td>\n",
       "      <td>- 50000.</td>\n",
       "    </tr>\n",
       "    <tr>\n",
       "      <th>1</th>\n",
       "      <td>58</td>\n",
       "      <td>Self-employed-not incorporated</td>\n",
       "      <td>4</td>\n",
       "      <td>34</td>\n",
       "      <td>Some college but no degree</td>\n",
       "      <td>0</td>\n",
       "      <td>Not in universe</td>\n",
       "      <td>Divorced</td>\n",
       "      <td>Construction</td>\n",
       "      <td>Precision production craft &amp; repair</td>\n",
       "      <td>...</td>\n",
       "      <td>United-States</td>\n",
       "      <td>United-States</td>\n",
       "      <td>United-States</td>\n",
       "      <td>Native- Born in the United States</td>\n",
       "      <td>0</td>\n",
       "      <td>Not in universe</td>\n",
       "      <td>2</td>\n",
       "      <td>52</td>\n",
       "      <td>94</td>\n",
       "      <td>- 50000.</td>\n",
       "    </tr>\n",
       "    <tr>\n",
       "      <th>2</th>\n",
       "      <td>18</td>\n",
       "      <td>Not in universe</td>\n",
       "      <td>0</td>\n",
       "      <td>0</td>\n",
       "      <td>10th grade</td>\n",
       "      <td>0</td>\n",
       "      <td>High school</td>\n",
       "      <td>Never married</td>\n",
       "      <td>Not in universe or children</td>\n",
       "      <td>Not in universe</td>\n",
       "      <td>...</td>\n",
       "      <td>Vietnam</td>\n",
       "      <td>Vietnam</td>\n",
       "      <td>Vietnam</td>\n",
       "      <td>Foreign born- Not a citizen of U S</td>\n",
       "      <td>0</td>\n",
       "      <td>Not in universe</td>\n",
       "      <td>2</td>\n",
       "      <td>0</td>\n",
       "      <td>95</td>\n",
       "      <td>- 50000.</td>\n",
       "    </tr>\n",
       "    <tr>\n",
       "      <th>3</th>\n",
       "      <td>9</td>\n",
       "      <td>Not in universe</td>\n",
       "      <td>0</td>\n",
       "      <td>0</td>\n",
       "      <td>Children</td>\n",
       "      <td>0</td>\n",
       "      <td>Not in universe</td>\n",
       "      <td>Never married</td>\n",
       "      <td>Not in universe or children</td>\n",
       "      <td>Not in universe</td>\n",
       "      <td>...</td>\n",
       "      <td>United-States</td>\n",
       "      <td>United-States</td>\n",
       "      <td>United-States</td>\n",
       "      <td>Native- Born in the United States</td>\n",
       "      <td>0</td>\n",
       "      <td>Not in universe</td>\n",
       "      <td>0</td>\n",
       "      <td>0</td>\n",
       "      <td>94</td>\n",
       "      <td>- 50000.</td>\n",
       "    </tr>\n",
       "    <tr>\n",
       "      <th>4</th>\n",
       "      <td>10</td>\n",
       "      <td>Not in universe</td>\n",
       "      <td>0</td>\n",
       "      <td>0</td>\n",
       "      <td>Children</td>\n",
       "      <td>0</td>\n",
       "      <td>Not in universe</td>\n",
       "      <td>Never married</td>\n",
       "      <td>Not in universe or children</td>\n",
       "      <td>Not in universe</td>\n",
       "      <td>...</td>\n",
       "      <td>United-States</td>\n",
       "      <td>United-States</td>\n",
       "      <td>United-States</td>\n",
       "      <td>Native- Born in the United States</td>\n",
       "      <td>0</td>\n",
       "      <td>Not in universe</td>\n",
       "      <td>0</td>\n",
       "      <td>0</td>\n",
       "      <td>94</td>\n",
       "      <td>- 50000.</td>\n",
       "    </tr>\n",
       "  </tbody>\n",
       "</table>\n",
       "<p>5 rows × 42 columns</p>\n",
       "</div>"
      ],
      "text/plain": [
       "   0                                1   2   3                            4   \\\n",
       "0  73                  Not in universe   0   0         High school graduate   \n",
       "1  58   Self-employed-not incorporated   4  34   Some college but no degree   \n",
       "2  18                  Not in universe   0   0                   10th grade   \n",
       "3   9                  Not in universe   0   0                     Children   \n",
       "4  10                  Not in universe   0   0                     Children   \n",
       "\n",
       "   5                 6               7                             8   \\\n",
       "0   0   Not in universe         Widowed   Not in universe or children   \n",
       "1   0   Not in universe        Divorced                  Construction   \n",
       "2   0       High school   Never married   Not in universe or children   \n",
       "3   0   Not in universe   Never married   Not in universe or children   \n",
       "4   0   Not in universe   Never married   Not in universe or children   \n",
       "\n",
       "                                     9   ...              32              33  \\\n",
       "0                       Not in universe  ...   United-States   United-States   \n",
       "1   Precision production craft & repair  ...   United-States   United-States   \n",
       "2                       Not in universe  ...         Vietnam         Vietnam   \n",
       "3                       Not in universe  ...   United-States   United-States   \n",
       "4                       Not in universe  ...   United-States   United-States   \n",
       "\n",
       "               34                                    35 36                37  \\\n",
       "0   United-States     Native- Born in the United States  0   Not in universe   \n",
       "1   United-States     Native- Born in the United States  0   Not in universe   \n",
       "2         Vietnam   Foreign born- Not a citizen of U S   0   Not in universe   \n",
       "3   United-States     Native- Born in the United States  0   Not in universe   \n",
       "4   United-States     Native- Born in the United States  0   Not in universe   \n",
       "\n",
       "   38  39  40         41  \n",
       "0   2   0  95   - 50000.  \n",
       "1   2  52  94   - 50000.  \n",
       "2   2   0  95   - 50000.  \n",
       "3   0   0  94   - 50000.  \n",
       "4   0   0  94   - 50000.  \n",
       "\n",
       "[5 rows x 42 columns]"
      ]
     },
     "execution_count": 4,
     "metadata": {},
     "output_type": "execute_result"
    }
   ],
   "source": [
    "census.head()"
   ]
  },
  {
   "cell_type": "code",
   "execution_count": 5,
   "metadata": {},
   "outputs": [
    {
     "data": {
      "text/plain": [
       "(199523, 42)"
      ]
     },
     "execution_count": 5,
     "metadata": {},
     "output_type": "execute_result"
    }
   ],
   "source": [
    "census.shape"
   ]
  },
  {
   "cell_type": "code",
   "execution_count": 6,
   "metadata": {},
   "outputs": [
    {
     "data": {
      "text/plain": [
       "Int64Index([ 0,  1,  2,  3,  4,  5,  6,  7,  8,  9, 10, 11, 12, 13, 14, 15, 16,\n",
       "            17, 18, 19, 20, 21, 22, 23, 24, 25, 26, 27, 28, 29, 30, 31, 32, 33,\n",
       "            34, 35, 36, 37, 38, 39, 40, 41],\n",
       "           dtype='int64')"
      ]
     },
     "execution_count": 6,
     "metadata": {},
     "output_type": "execute_result"
    }
   ],
   "source": [
    "census.columns"
   ]
  },
  {
   "cell_type": "markdown",
   "metadata": {},
   "source": [
    "**Data Definition**"
   ]
  },
  {
   "cell_type": "code",
   "execution_count": 7,
   "metadata": {},
   "outputs": [],
   "source": [
    "# Creating list of column names to apply to dataframe\n",
    "column_names = ['age', 'worker_class', 'industry_recode', 'occupation_recode', 'education',\n",
    "                'wage_per_hour', 'edu_enroll_last_week', 'marital_stat', 'industry_code',\n",
    "                'occupation_code', 'race', 'hispanic_origin', 'sex', 'member_of_union', 'reason_unemployment',\n",
    "                'full_part_employment_stat', 'capital_gains', 'capital_losses', 'stock_divs', 'tax_filler_stat',\n",
    "                'region_prev_residence', 'state_prev_residence', 'household_family_stat', 'household_summary_in',\n",
    "                'instance_weight', 'migration_code_change_msa', 'migration_code_change_reg',\n",
    "                'migration_codemove_reg', 'in_house_one_yearago', 'migration_prev_res_sunbelt', 'persons_worked_for_employer',\n",
    "                'family_members_under_18', 'country_of_birth_father', 'country_of_birth_mother', 'country_of_birth', \n",
    "                'citizenship', 'own_business_or_self_employed', 'veterans_questionnaire', 'veterans_benefits', \n",
    "                'weeks_worked_year', 'year', 'income']"
   ]
  },
  {
   "cell_type": "code",
   "execution_count": 8,
   "metadata": {},
   "outputs": [],
   "source": [
    "# Setting column names for both data sets\n",
    "census.columns = column_names"
   ]
  },
  {
   "cell_type": "markdown",
   "metadata": {},
   "source": [
    "**Overview**\n",
    "\n",
    "There are a total of 42 columns in this data set. The goal here would be to determine the viablity of each column as it pertains to the project analysis. Some of these columns might not be usable in this analysis. While others will need some wrangling to ensure that are used appropriately. To begin there will be some EDA to ascertain the details of the features included in this dataset.\n",
    "\n",
    "What variables could affect the income level of an indivudial?\n",
    "- age\n",
    "- race\n",
    "- industry\n",
    "- occupation\n",
    "- education\n",
    "- employment status\n",
    "- hours worked\n",
    "- tax status\n",
    "- marital status\n",
    "- region\n",
    "- dependants\n",
    "- investments and returns\n",
    "\n",
    "There are likely more variables that play into this, but this is a good start point for now."
   ]
  },
  {
   "cell_type": "code",
   "execution_count": 9,
   "metadata": {
    "scrolled": true
   },
   "outputs": [
    {
     "data": {
      "text/plain": [
       "array([' - 50000.', ' 50000+.'], dtype=object)"
      ]
     },
     "execution_count": 9,
     "metadata": {},
     "output_type": "execute_result"
    }
   ],
   "source": [
    "# checking unique values\n",
    "census.income.unique()"
   ]
  },
  {
   "cell_type": "code",
   "execution_count": 10,
   "metadata": {},
   "outputs": [
    {
     "name": "stdout",
     "output_type": "stream",
     "text": [
      "0    187141\n",
      "1     12382\n",
      "Name: income, dtype: int64\n"
     ]
    }
   ],
   "source": [
    "# assigning 1 or 0 based on income category\n",
    "census.income = pd.Series(np.where(census.income.values == ' 50000+.', 1, 0),\n",
    "                       census.index)\n",
    "\n",
    "# sanity check\n",
    "print(census.income.value_counts())"
   ]
  },
  {
   "cell_type": "code",
   "execution_count": 11,
   "metadata": {
    "scrolled": true
   },
   "outputs": [],
   "source": [
    "# dropping irrelevant columns\n",
    "census.drop(columns=['industry_recode', 'occupation_recode', 'weeks_worked_year'], inplace=True)"
   ]
  },
  {
   "cell_type": "markdown",
   "metadata": {},
   "source": [
    "The majority of the population are under 40 years of age. \n",
    "Persons under 16 will most likely not be making an income and therefore are not applicable to this particluar problem."
   ]
  },
  {
   "cell_type": "code",
   "execution_count": 12,
   "metadata": {},
   "outputs": [],
   "source": [
    "# removed entries under the age of 16\n",
    "census = census[census.age >= 16]"
   ]
  },
  {
   "cell_type": "code",
   "execution_count": 13,
   "metadata": {
    "scrolled": false
   },
   "outputs": [
    {
     "data": {
      "text/plain": [
       "(149175, 39)"
      ]
     },
     "execution_count": 13,
     "metadata": {},
     "output_type": "execute_result"
    }
   ],
   "source": [
    "census.shape"
   ]
  },
  {
   "cell_type": "markdown",
   "metadata": {},
   "source": [
    "Here the education column is getting reorganized and cleaned for analysis"
   ]
  },
  {
   "cell_type": "code",
   "execution_count": 14,
   "metadata": {
    "scrolled": false
   },
   "outputs": [
    {
     "data": {
      "text/plain": [
       "array(['Highschoolgraduate', 'Somecollegebutnodegree', '10thgrade',\n",
       "       'Bachelorsdegree(BAABBS)', 'Mastersdegree(MAMSMEngMEdMSWMBA)',\n",
       "       'Lessthan1stgrade', 'Associatesdegree-academicprogram',\n",
       "       '7thand8thgrade', '12thgradenodiploma',\n",
       "       'Associatesdegree-occup/vocational',\n",
       "       'Profschooldegree(MDDDSDVMLLBJD)', '5thor6thgrade', '11thgrade',\n",
       "       'Doctoratedegree(PhDEdD)', '9thgrade', '1st2nd3rdor4thgrade'],\n",
       "      dtype=object)"
      ]
     },
     "execution_count": 14,
     "metadata": {},
     "output_type": "execute_result"
    }
   ],
   "source": [
    "census['education'] = census.loc[:, ('education')].str.replace(' ', '')\n",
    "census.education.unique()"
   ]
  },
  {
   "cell_type": "markdown",
   "metadata": {},
   "source": [
    "Cleaning and organizing the age column.\n",
    "\n",
    "- NoHighschool = 10thgrade, Lessthan1stgrade, 7thand8thgrade, 12thgradenodiploma, 5thor6thgrade, 11thgrade, 9thgrade, 1st2nd3rdor4thgrade\n",
    "\n",
    "- Highschool = Highschoolgraduate, Somecollegebutnodegree\n",
    "- AssociatesDegree = Associatesdegree-academicprogram, Associatesdegree-occup/vocational\n",
    "- BachelorsDegree = Bachelorsdegree(BAABBS)\n",
    "- MastersDegree = Mastersdegree(MAMSMEngMEdMSWMBA)\n",
    "- MedSchool = Profschooldegree(MDDDSDVMLLBJD)\n",
    "- DoctorateDegree = Doctoratedegree(PhDEdD)"
   ]
  },
  {
   "cell_type": "code",
   "execution_count": 15,
   "metadata": {},
   "outputs": [],
   "source": [
    "# creating a set of variable for replacing the old values in the education column\n",
    "noHighSchool = ['10thgrade', 'Lessthan1stgrade', '7thand8thgrade', \n",
    "                '12thgradenodiploma', '5thor6thgrade', '11thgrade', '9thgrade', '1st2nd3rdor4thgrade']\n",
    "\n",
    "highschool = ['Highschoolgraduate', 'Somecollegebutnodegree']\n",
    "\n",
    "associates = ['Associatesdegree-academicprogram', 'Associatesdegree-occup/vocational']\n",
    "BachelorsDegree = 'Bachelorsdegree(BAABBS)'\n",
    "MastersDegree = 'Mastersdegree(MAMSMEngMEdMSWMBA)'\n",
    "MedSchool = 'Profschooldegree(MDDDSDVMLLBJD)'\n",
    "DoctorateDegree = 'Doctoratedegree(PhDEdD)'"
   ]
  },
  {
   "cell_type": "code",
   "execution_count": 16,
   "metadata": {},
   "outputs": [],
   "source": [
    "# Replacing old values with new\n",
    "for i in noHighSchool:\n",
    "    census.loc[census.education == i, 'education'] = 'NoHighSchool'\n",
    "    \n",
    "for i in highschool:\n",
    "    census.loc[census.education == i, 'education'] = 'HighSchool'\n",
    "\n",
    "for i in associates:\n",
    "    census.loc[census.education == i, 'education'] = 'AssociatesDegree'\n",
    "\n",
    "census.loc[census.education == 'Bachelorsdegree(BAABBS)', 'education'] = 'BachelorsDegree'\n",
    "census.loc[census.education == 'Mastersdegree(MAMSMEngMEdMSWMBA)', 'education'] = 'MastersDegree'\n",
    "census.loc[census.education == 'Profschooldegree(MDDDSDVMLLBJD)', 'education'] = 'MedSchool'\n",
    "census.loc[census.education == 'Doctoratedegree(PhDEdD)', 'education'] = 'DoctorateDegree'"
   ]
  },
  {
   "cell_type": "code",
   "execution_count": 17,
   "metadata": {},
   "outputs": [
    {
     "data": {
      "text/plain": [
       "array(['HighSchool', 'NoHighSchool', 'BachelorsDegree', 'MastersDegree',\n",
       "       'AssociatesDegree', 'MedSchool', 'DoctorateDegree'], dtype=object)"
      ]
     },
     "execution_count": 17,
     "metadata": {},
     "output_type": "execute_result"
    }
   ],
   "source": [
    "census.education.unique()\n",
    "\n",
    "# Success!"
   ]
  },
  {
   "cell_type": "code",
   "execution_count": 18,
   "metadata": {},
   "outputs": [
    {
     "data": {
      "text/plain": [
       "[Text(0.5, 0, 'Education'), Text(0, 0.5, 'Count')]"
      ]
     },
     "execution_count": 18,
     "metadata": {},
     "output_type": "execute_result"
    },
    {
     "data": {
      "image/png": "[encoded data removed]",
      "text/plain": [
       "<Figure size 864x432 with 1 Axes>"
      ]
     },
     "metadata": {
      "needs_background": "light"
     },
     "output_type": "display_data"
    }
   ],
   "source": [
    "fig, ax = plt.subplots(figsize=(12, 6))\n",
    "order = ['NoHighSchool', 'HighSchool', 'AssociatesDegree', 'BachelorsDegree', 'MastersDegree', 'DoctorateDegree', 'MedSchool']\n",
    "\n",
    "sns.countplot(x='education', data=census, order=order)\n",
    "ax.set(xlabel='Education', ylabel='Count')"
   ]
  },
  {
   "cell_type": "code",
   "execution_count": 19,
   "metadata": {},
   "outputs": [
    {
     "data": {
      "text/plain": [
       "95    74660\n",
       "94    74515\n",
       "Name: year, dtype: int64"
      ]
     },
     "execution_count": 19,
     "metadata": {},
     "output_type": "execute_result"
    }
   ],
   "source": [
    "census['year'].value_counts()"
   ]
  },
  {
   "cell_type": "markdown",
   "metadata": {},
   "source": [
    "Is the census year relavent? "
   ]
  },
  {
   "cell_type": "code",
   "execution_count": 20,
   "metadata": {},
   "outputs": [
    {
     "name": "stdout",
     "output_type": "stream",
     "text": [
      "1995 census income category counts\n",
      "\n",
      "0    68117\n",
      "1     6543\n",
      "Name: income, dtype: int64\n",
      "\n",
      "1994 income category counts\n",
      "\n",
      "0    68676\n",
      "1     5839\n",
      "Name: income, dtype: int64\n",
      "\n",
      "The difference between years. Remember the value of 1 denotes more than 50,000.\n",
      "\n",
      "0   -559\n",
      "1    704\n",
      "Name: income, dtype: int64\n"
     ]
    }
   ],
   "source": [
    "incomes_94 = census.loc[census.year == 94, 'income'].value_counts()\n",
    "incomes_95 = census.loc[census.year == 95, 'income'].value_counts()\n",
    "\n",
    "print('1995 census income category counts\\n')\n",
    "print(incomes_95)\n",
    "print('\\n1994 income category counts\\n')\n",
    "print(incomes_94)\n",
    "print('\\nThe difference between years. Remember the value of 1 denotes more than 50,000.\\n')\n",
    "print(incomes_95 - incomes_94)"
   ]
  },
  {
   "cell_type": "code",
   "execution_count": 21,
   "metadata": {},
   "outputs": [
    {
     "data": {
      "text/plain": [
       "count    149175.000000\n",
       "mean         43.621351\n",
       "std          18.128950\n",
       "min          16.000000\n",
       "25%          29.000000\n",
       "50%          41.000000\n",
       "75%          56.000000\n",
       "max          90.000000\n",
       "Name: age, dtype: float64"
      ]
     },
     "execution_count": 21,
     "metadata": {},
     "output_type": "execute_result"
    }
   ],
   "source": [
    "census.age.describe()"
   ]
  },
  {
   "cell_type": "code",
   "execution_count": 22,
   "metadata": {
    "scrolled": false
   },
   "outputs": [
    {
     "data": {
      "text/plain": [
       "<seaborn.axisgrid.FacetGrid at 0x1a540ad7550>"
      ]
     },
     "execution_count": 22,
     "metadata": {},
     "output_type": "execute_result"
    },
    {
     "data": {
      "image/png": "[encoded data removed]",
      "text/plain": [
       "<Figure size 432x288 with 1 Axes>"
      ]
     },
     "metadata": {
      "needs_background": "light"
     },
     "output_type": "display_data"
    },
    {
     "data": {
      "image/png": "[encoded data removed]",
      "text/plain": [
       "<Figure size 360x360 with 1 Axes>"
      ]
     },
     "metadata": {
      "needs_background": "light"
     },
     "output_type": "display_data"
    }
   ],
   "source": [
    "fig, ax = plt.subplots()\n",
    "sns.boxplot(y='age', data=census)\n",
    "sns.displot(x='age', data=census)"
   ]
  },
  {
   "cell_type": "code",
   "execution_count": 23,
   "metadata": {
    "scrolled": true
   },
   "outputs": [
    {
     "data": {
      "text/plain": [
       "count    0.0\n",
       "mean     NaN\n",
       "std      NaN\n",
       "min      NaN\n",
       "25%      NaN\n",
       "50%      NaN\n",
       "75%      NaN\n",
       "max      NaN\n",
       "Name: age, dtype: float64"
      ]
     },
     "execution_count": 23,
     "metadata": {},
     "output_type": "execute_result"
    }
   ],
   "source": [
    "female_age = census.loc[census['sex'] == 'Female', 'age']\n",
    "male_age = census.loc[census['sex'] == 'Male', 'age']\n",
    "\n",
    "female_age.describe()"
   ]
  },
  {
   "cell_type": "code",
   "execution_count": 24,
   "metadata": {
    "scrolled": true
   },
   "outputs": [
    {
     "data": {
      "text/plain": [
       "count    0.0\n",
       "mean     NaN\n",
       "std      NaN\n",
       "min      NaN\n",
       "25%      NaN\n",
       "50%      NaN\n",
       "75%      NaN\n",
       "max      NaN\n",
       "Name: age, dtype: float64"
      ]
     },
     "execution_count": 24,
     "metadata": {},
     "output_type": "execute_result"
    }
   ],
   "source": [
    "male_age.describe()"
   ]
  },
  {
   "cell_type": "code",
   "execution_count": 25,
   "metadata": {
    "scrolled": true
   },
   "outputs": [
    {
     "data": {
      "text/plain": [
       " White                          127185\n",
       " Black                           13939\n",
       " Asian or Pacific Islander        4291\n",
       " Other                            2295\n",
       " Amer Indian Aleut or Eskimo      1465\n",
       "Name: race, dtype: int64"
      ]
     },
     "execution_count": 25,
     "metadata": {},
     "output_type": "execute_result"
    }
   ],
   "source": [
    "census.race.value_counts()"
   ]
  },
  {
   "cell_type": "markdown",
   "metadata": {},
   "source": [
    "According to some research the African American population accounted for about 13% of the total.\n",
    "But for some reason this data does not represent that. Here the percentage is closer to 9%"
   ]
  },
  {
   "cell_type": "code",
   "execution_count": 26,
   "metadata": {},
   "outputs": [],
   "source": [
    "# removing extra whitespace\n",
    "census['sex'] = census.loc[:, ('sex')].str.replace(' ', '')"
   ]
  },
  {
   "cell_type": "code",
   "execution_count": 27,
   "metadata": {},
   "outputs": [
    {
     "data": {
      "text/plain": [
       "Female    79210\n",
       "Male      69965\n",
       "Name: sex, dtype: int64"
      ]
     },
     "execution_count": 27,
     "metadata": {},
     "output_type": "execute_result"
    }
   ],
   "source": [
    "census.sex.value_counts()"
   ]
  },
  {
   "cell_type": "markdown",
   "metadata": {},
   "source": [
    "Interestingly, the amount of females recorded is aprx. 10000 more than males."
   ]
  },
  {
   "cell_type": "code",
   "execution_count": 28,
   "metadata": {},
   "outputs": [
    {
     "data": {
      "text/plain": [
       "0    76547\n",
       "1     2663\n",
       "Name: income, dtype: int64"
      ]
     },
     "execution_count": 28,
     "metadata": {},
     "output_type": "execute_result"
    }
   ],
   "source": [
    "census.loc[census['sex'] == 'Female', 'income'].value_counts()\n"
   ]
  },
  {
   "cell_type": "code",
   "execution_count": 29,
   "metadata": {
    "scrolled": true
   },
   "outputs": [
    {
     "data": {
      "text/plain": [
       "0.03478908383084902"
      ]
     },
     "execution_count": 29,
     "metadata": {},
     "output_type": "execute_result"
    }
   ],
   "source": [
    "2663/76547"
   ]
  },
  {
   "cell_type": "markdown",
   "metadata": {},
   "source": [
    "76547 Females in this survey made less than 50k\\\n",
    "2663 Females made more than 50k\\\n",
    "\\\n",
    "The percentage of female earners above 50k is 3.48%"
   ]
  },
  {
   "cell_type": "code",
   "execution_count": 30,
   "metadata": {},
   "outputs": [
    {
     "data": {
      "text/plain": [
       "0    60246\n",
       "1     9719\n",
       "Name: income, dtype: int64"
      ]
     },
     "execution_count": 30,
     "metadata": {},
     "output_type": "execute_result"
    }
   ],
   "source": [
    "census.loc[census['sex'] == 'Male', 'income'].value_counts()\n"
   ]
  },
  {
   "cell_type": "code",
   "execution_count": 31,
   "metadata": {},
   "outputs": [
    {
     "data": {
      "text/plain": [
       "0.1613219134880324"
      ]
     },
     "execution_count": 31,
     "metadata": {},
     "output_type": "execute_result"
    }
   ],
   "source": [
    "9719/60246"
   ]
  },
  {
   "cell_type": "markdown",
   "metadata": {},
   "source": [
    "60246 Males made less than 50k\\\n",
    "9719 Males made more than 50k\\\n",
    "\\\n",
    "The percentage of male earners above 50k is 16.13%"
   ]
  },
  {
   "cell_type": "markdown",
   "metadata": {},
   "source": [
    "### Test Male/Female income percetages"
   ]
  },
  {
   "cell_type": "markdown",
   "metadata": {},
   "source": [
    "This will ensure that either the numbers are random or consistent with a 95% confidence interval."
   ]
  },
  {
   "cell_type": "markdown",
   "metadata": {},
   "source": [
    "Let us first check on some correlations"
   ]
  },
  {
   "cell_type": "code",
   "execution_count": 32,
   "metadata": {},
   "outputs": [
    {
     "data": {
      "text/html": [
       "<div>\n",
       "<style scoped>\n",
       "    .dataframe tbody tr th:only-of-type {\n",
       "        vertical-align: middle;\n",
       "    }\n",
       "\n",
       "    .dataframe tbody tr th {\n",
       "        vertical-align: top;\n",
       "    }\n",
       "\n",
       "    .dataframe thead th {\n",
       "        text-align: right;\n",
       "    }\n",
       "</style>\n",
       "<table border=\"1\" class=\"dataframe\">\n",
       "  <thead>\n",
       "    <tr style=\"text-align: right;\">\n",
       "      <th></th>\n",
       "      <th>age</th>\n",
       "      <th>wage_per_hour</th>\n",
       "      <th>capital_gains</th>\n",
       "      <th>capital_losses</th>\n",
       "      <th>stock_divs</th>\n",
       "      <th>instance_weight</th>\n",
       "      <th>persons_worked_for_employer</th>\n",
       "      <th>own_business_or_self_employed</th>\n",
       "      <th>veterans_benefits</th>\n",
       "      <th>year</th>\n",
       "      <th>income</th>\n",
       "    </tr>\n",
       "  </thead>\n",
       "  <tbody>\n",
       "    <tr>\n",
       "      <th>age</th>\n",
       "      <td>1.000000</td>\n",
       "      <td>-0.064628</td>\n",
       "      <td>0.022428</td>\n",
       "      <td>0.011687</td>\n",
       "      <td>0.091606</td>\n",
       "      <td>-0.048131</td>\n",
       "      <td>-0.313186</td>\n",
       "      <td>-0.189074</td>\n",
       "      <td>-0.104019</td>\n",
       "      <td>0.003029</td>\n",
       "      <td>0.043893</td>\n",
       "    </tr>\n",
       "    <tr>\n",
       "      <th>wage_per_hour</th>\n",
       "      <td>-0.064628</td>\n",
       "      <td>1.000000</td>\n",
       "      <td>-0.007398</td>\n",
       "      <td>0.001893</td>\n",
       "      <td>-0.012567</td>\n",
       "      <td>0.008752</td>\n",
       "      <td>0.156229</td>\n",
       "      <td>0.033690</td>\n",
       "      <td>0.011687</td>\n",
       "      <td>0.002119</td>\n",
       "      <td>0.007281</td>\n",
       "    </tr>\n",
       "    <tr>\n",
       "      <th>capital_gains</th>\n",
       "      <td>0.022428</td>\n",
       "      <td>-0.007398</td>\n",
       "      <td>1.000000</td>\n",
       "      <td>-0.017018</td>\n",
       "      <td>0.128769</td>\n",
       "      <td>0.000337</td>\n",
       "      <td>0.037170</td>\n",
       "      <td>0.005410</td>\n",
       "      <td>0.002109</td>\n",
       "      <td>0.005898</td>\n",
       "      <td>0.235675</td>\n",
       "    </tr>\n",
       "    <tr>\n",
       "      <th>capital_losses</th>\n",
       "      <td>0.011687</td>\n",
       "      <td>0.001893</td>\n",
       "      <td>-0.017018</td>\n",
       "      <td>1.000000</td>\n",
       "      <td>0.038202</td>\n",
       "      <td>0.005639</td>\n",
       "      <td>0.053223</td>\n",
       "      <td>0.009963</td>\n",
       "      <td>-0.005824</td>\n",
       "      <td>-0.000193</td>\n",
       "      <td>0.138106</td>\n",
       "    </tr>\n",
       "    <tr>\n",
       "      <th>stock_divs</th>\n",
       "      <td>0.091606</td>\n",
       "      <td>-0.012567</td>\n",
       "      <td>0.128769</td>\n",
       "      <td>0.038202</td>\n",
       "      <td>1.000000</td>\n",
       "      <td>-0.002789</td>\n",
       "      <td>-0.022978</td>\n",
       "      <td>-0.015690</td>\n",
       "      <td>-0.005044</td>\n",
       "      <td>0.002026</td>\n",
       "      <td>0.169319</td>\n",
       "    </tr>\n",
       "    <tr>\n",
       "      <th>instance_weight</th>\n",
       "      <td>-0.048131</td>\n",
       "      <td>0.008752</td>\n",
       "      <td>0.000337</td>\n",
       "      <td>0.005639</td>\n",
       "      <td>-0.002789</td>\n",
       "      <td>1.000000</td>\n",
       "      <td>0.030237</td>\n",
       "      <td>0.005880</td>\n",
       "      <td>0.001347</td>\n",
       "      <td>0.009314</td>\n",
       "      <td>0.009466</td>\n",
       "    </tr>\n",
       "    <tr>\n",
       "      <th>persons_worked_for_employer</th>\n",
       "      <td>-0.313186</td>\n",
       "      <td>0.156229</td>\n",
       "      <td>0.037170</td>\n",
       "      <td>0.053223</td>\n",
       "      <td>-0.022978</td>\n",
       "      <td>0.030237</td>\n",
       "      <td>1.000000</td>\n",
       "      <td>0.178127</td>\n",
       "      <td>0.048195</td>\n",
       "      <td>0.023149</td>\n",
       "      <td>0.175088</td>\n",
       "    </tr>\n",
       "    <tr>\n",
       "      <th>own_business_or_self_employed</th>\n",
       "      <td>-0.189074</td>\n",
       "      <td>0.033690</td>\n",
       "      <td>0.005410</td>\n",
       "      <td>0.009963</td>\n",
       "      <td>-0.015690</td>\n",
       "      <td>0.005880</td>\n",
       "      <td>0.178127</td>\n",
       "      <td>1.000000</td>\n",
       "      <td>0.016092</td>\n",
       "      <td>0.007938</td>\n",
       "      <td>0.013786</td>\n",
       "    </tr>\n",
       "    <tr>\n",
       "      <th>veterans_benefits</th>\n",
       "      <td>-0.104019</td>\n",
       "      <td>0.011687</td>\n",
       "      <td>0.002109</td>\n",
       "      <td>-0.005824</td>\n",
       "      <td>-0.005044</td>\n",
       "      <td>0.001347</td>\n",
       "      <td>0.048195</td>\n",
       "      <td>0.016092</td>\n",
       "      <td>1.000000</td>\n",
       "      <td>-0.000355</td>\n",
       "      <td>-0.014067</td>\n",
       "    </tr>\n",
       "    <tr>\n",
       "      <th>year</th>\n",
       "      <td>0.003029</td>\n",
       "      <td>0.002119</td>\n",
       "      <td>0.005898</td>\n",
       "      <td>-0.000193</td>\n",
       "      <td>0.002026</td>\n",
       "      <td>0.009314</td>\n",
       "      <td>0.023149</td>\n",
       "      <td>0.007938</td>\n",
       "      <td>-0.000355</td>\n",
       "      <td>1.000000</td>\n",
       "      <td>0.016813</td>\n",
       "    </tr>\n",
       "    <tr>\n",
       "      <th>income</th>\n",
       "      <td>0.043893</td>\n",
       "      <td>0.007281</td>\n",
       "      <td>0.235675</td>\n",
       "      <td>0.138106</td>\n",
       "      <td>0.169319</td>\n",
       "      <td>0.009466</td>\n",
       "      <td>0.175088</td>\n",
       "      <td>0.013786</td>\n",
       "      <td>-0.014067</td>\n",
       "      <td>0.016813</td>\n",
       "      <td>1.000000</td>\n",
       "    </tr>\n",
       "  </tbody>\n",
       "</table>\n",
       "</div>"
      ],
      "text/plain": [
       "                                    age  wage_per_hour  capital_gains  \\\n",
       "age                            1.000000      -0.064628       0.022428   \n",
       "wage_per_hour                 -0.064628       1.000000      -0.007398   \n",
       "capital_gains                  0.022428      -0.007398       1.000000   \n",
       "capital_losses                 0.011687       0.001893      -0.017018   \n",
       "stock_divs                     0.091606      -0.012567       0.128769   \n",
       "instance_weight               -0.048131       0.008752       0.000337   \n",
       "persons_worked_for_employer   -0.313186       0.156229       0.037170   \n",
       "own_business_or_self_employed -0.189074       0.033690       0.005410   \n",
       "veterans_benefits             -0.104019       0.011687       0.002109   \n",
       "year                           0.003029       0.002119       0.005898   \n",
       "income                         0.043893       0.007281       0.235675   \n",
       "\n",
       "                               capital_losses  stock_divs  instance_weight  \\\n",
       "age                                  0.011687    0.091606        -0.048131   \n",
       "wage_per_hour                        0.001893   -0.012567         0.008752   \n",
       "capital_gains                       -0.017018    0.128769         0.000337   \n",
       "capital_losses                       1.000000    0.038202         0.005639   \n",
       "stock_divs                           0.038202    1.000000        -0.002789   \n",
       "instance_weight                      0.005639   -0.002789         1.000000   \n",
       "persons_worked_for_employer          0.053223   -0.022978         0.030237   \n",
       "own_business_or_self_employed        0.009963   -0.015690         0.005880   \n",
       "veterans_benefits                   -0.005824   -0.005044         0.001347   \n",
       "year                                -0.000193    0.002026         0.009314   \n",
       "income                               0.138106    0.169319         0.009466   \n",
       "\n",
       "                               persons_worked_for_employer  \\\n",
       "age                                              -0.313186   \n",
       "wage_per_hour                                     0.156229   \n",
       "capital_gains                                     0.037170   \n",
       "capital_losses                                    0.053223   \n",
       "stock_divs                                       -0.022978   \n",
       "instance_weight                                   0.030237   \n",
       "persons_worked_for_employer                       1.000000   \n",
       "own_business_or_self_employed                     0.178127   \n",
       "veterans_benefits                                 0.048195   \n",
       "year                                              0.023149   \n",
       "income                                            0.175088   \n",
       "\n",
       "                               own_business_or_self_employed  \\\n",
       "age                                                -0.189074   \n",
       "wage_per_hour                                       0.033690   \n",
       "capital_gains                                       0.005410   \n",
       "capital_losses                                      0.009963   \n",
       "stock_divs                                         -0.015690   \n",
       "instance_weight                                     0.005880   \n",
       "persons_worked_for_employer                         0.178127   \n",
       "own_business_or_self_employed                       1.000000   \n",
       "veterans_benefits                                   0.016092   \n",
       "year                                                0.007938   \n",
       "income                                              0.013786   \n",
       "\n",
       "                               veterans_benefits      year    income  \n",
       "age                                    -0.104019  0.003029  0.043893  \n",
       "wage_per_hour                           0.011687  0.002119  0.007281  \n",
       "capital_gains                           0.002109  0.005898  0.235675  \n",
       "capital_losses                         -0.005824 -0.000193  0.138106  \n",
       "stock_divs                             -0.005044  0.002026  0.169319  \n",
       "instance_weight                         0.001347  0.009314  0.009466  \n",
       "persons_worked_for_employer             0.048195  0.023149  0.175088  \n",
       "own_business_or_self_employed           0.016092  0.007938  0.013786  \n",
       "veterans_benefits                       1.000000 -0.000355 -0.014067  \n",
       "year                                   -0.000355  1.000000  0.016813  \n",
       "income                                 -0.014067  0.016813  1.000000  "
      ]
     },
     "execution_count": 32,
     "metadata": {},
     "output_type": "execute_result"
    }
   ],
   "source": [
    "census.corr()"
   ]
  },
  {
   "cell_type": "code",
   "execution_count": 33,
   "metadata": {},
   "outputs": [
    {
     "data": {
      "text/plain": [
       "<AxesSubplot:>"
      ]
     },
     "execution_count": 33,
     "metadata": {},
     "output_type": "execute_result"
    },
    {
     "data": {
      "image/png": "[encoded data removed]",
      "text/plain": [
       "<Figure size 432x288 with 2 Axes>"
      ]
     },
     "metadata": {
      "needs_background": "light"
     },
     "output_type": "display_data"
    }
   ],
   "source": [
    "sns.heatmap(census.corr())\n"
   ]
  },
  {
   "cell_type": "code",
   "execution_count": null,
   "metadata": {},
   "outputs": [],
   "source": []
  }
 ],
 "metadata": {
  "kernelspec": {
   "display_name": "Python 3",
   "language": "python",
   "name": "python3"
  },
  "language_info": {
   "codemirror_mode": {
    "name": "ipython",
    "version": 3
   },
   "file_extension": ".py",
   "mimetype": "text/x-python",
   "name": "python",
   "nbconvert_exporter": "python",
   "pygments_lexer": "ipython3",
   "version": "3.8.5"
  }
 },
 "nbformat": 4,
 "nbformat_minor": 4
}
