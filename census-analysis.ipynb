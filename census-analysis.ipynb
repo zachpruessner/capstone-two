{
 "cells": [
  {
   "cell_type": "markdown",
   "source": [
    "# Census Analysis"
   ],
   "metadata": {}
  },
  {
   "cell_type": "markdown",
   "source": [
    "### Contents\r\n",
    "1. Data Wrangling -- collect, organize, define, clean\r\n",
    "2. Exploratory Data Analysis"
   ],
   "metadata": {}
  },
  {
   "cell_type": "markdown",
   "source": [
    "The goal of this project is to predict income levels based on data collected in the US census. The income levels are binned at below 50K and above 50K. This is a biniary classification problem.\n",
    "The full dataset will be split into two parts. One for training at 2/3 of the full set. And the other for testing at 1/3 of the full set."
   ],
   "metadata": {}
  },
  {
   "cell_type": "markdown",
   "source": [
    "**Initial Data Wrangling and Data Collection**"
   ],
   "metadata": {}
  },
  {
   "cell_type": "markdown",
   "source": [
    "### Alternate Hypothesis"
   ],
   "metadata": {}
  },
  {
   "cell_type": "markdown",
   "source": [
    "Education, age, and sex have an affect on a persons income level."
   ],
   "metadata": {}
  },
  {
   "cell_type": "markdown",
   "source": [
    "After confirming one of the above hypotheses the way will be opened to perform some prediction models based on useful columns in the dataset."
   ],
   "metadata": {}
  },
  {
   "cell_type": "markdown",
   "source": [
    "**Initial Data Collection and Clean**"
   ],
   "metadata": {}
  },
  {
   "cell_type": "code",
   "execution_count": 45,
   "source": [
    "# Importing necessary modules\r\n",
    "import pandas as pd\r\n",
    "import numpy as np\r\n",
    "import matplotlib.pyplot as plt\r\n",
    "import seaborn as sns\r\n",
    "import statsmodels.api as sm\r\n",
    "from statsmodels.graphics.api import abline_plot"
   ],
   "outputs": [],
   "metadata": {}
  },
  {
   "cell_type": "code",
   "execution_count": 46,
   "source": [
    "# Loading in data as csv file\r\n",
    "census = pd.read_csv('data/census-data.csv', header=None)"
   ],
   "outputs": [],
   "metadata": {}
  },
  {
   "cell_type": "code",
   "execution_count": 47,
   "source": [
    "census.head()"
   ],
   "outputs": [
    {
     "output_type": "execute_result",
     "data": {
      "text/html": [
       "<div>\n",
       "<style scoped>\n",
       "    .dataframe tbody tr th:only-of-type {\n",
       "        vertical-align: middle;\n",
       "    }\n",
       "\n",
       "    .dataframe tbody tr th {\n",
       "        vertical-align: top;\n",
       "    }\n",
       "\n",
       "    .dataframe thead th {\n",
       "        text-align: right;\n",
       "    }\n",
       "</style>\n",
       "<table border=\"1\" class=\"dataframe\">\n",
       "  <thead>\n",
       "    <tr style=\"text-align: right;\">\n",
       "      <th></th>\n",
       "      <th>0</th>\n",
       "      <th>1</th>\n",
       "      <th>2</th>\n",
       "      <th>3</th>\n",
       "      <th>4</th>\n",
       "      <th>5</th>\n",
       "      <th>6</th>\n",
       "      <th>7</th>\n",
       "      <th>8</th>\n",
       "      <th>9</th>\n",
       "      <th>...</th>\n",
       "      <th>32</th>\n",
       "      <th>33</th>\n",
       "      <th>34</th>\n",
       "      <th>35</th>\n",
       "      <th>36</th>\n",
       "      <th>37</th>\n",
       "      <th>38</th>\n",
       "      <th>39</th>\n",
       "      <th>40</th>\n",
       "      <th>41</th>\n",
       "    </tr>\n",
       "  </thead>\n",
       "  <tbody>\n",
       "    <tr>\n",
       "      <th>0</th>\n",
       "      <td>73</td>\n",
       "      <td>Not in universe</td>\n",
       "      <td>0</td>\n",
       "      <td>0</td>\n",
       "      <td>High school graduate</td>\n",
       "      <td>0</td>\n",
       "      <td>Not in universe</td>\n",
       "      <td>Widowed</td>\n",
       "      <td>Not in universe or children</td>\n",
       "      <td>Not in universe</td>\n",
       "      <td>...</td>\n",
       "      <td>United-States</td>\n",
       "      <td>United-States</td>\n",
       "      <td>United-States</td>\n",
       "      <td>Native- Born in the United States</td>\n",
       "      <td>0</td>\n",
       "      <td>Not in universe</td>\n",
       "      <td>2</td>\n",
       "      <td>0</td>\n",
       "      <td>95</td>\n",
       "      <td>- 50000.</td>\n",
       "    </tr>\n",
       "    <tr>\n",
       "      <th>1</th>\n",
       "      <td>58</td>\n",
       "      <td>Self-employed-not incorporated</td>\n",
       "      <td>4</td>\n",
       "      <td>34</td>\n",
       "      <td>Some college but no degree</td>\n",
       "      <td>0</td>\n",
       "      <td>Not in universe</td>\n",
       "      <td>Divorced</td>\n",
       "      <td>Construction</td>\n",
       "      <td>Precision production craft &amp; repair</td>\n",
       "      <td>...</td>\n",
       "      <td>United-States</td>\n",
       "      <td>United-States</td>\n",
       "      <td>United-States</td>\n",
       "      <td>Native- Born in the United States</td>\n",
       "      <td>0</td>\n",
       "      <td>Not in universe</td>\n",
       "      <td>2</td>\n",
       "      <td>52</td>\n",
       "      <td>94</td>\n",
       "      <td>- 50000.</td>\n",
       "    </tr>\n",
       "    <tr>\n",
       "      <th>2</th>\n",
       "      <td>18</td>\n",
       "      <td>Not in universe</td>\n",
       "      <td>0</td>\n",
       "      <td>0</td>\n",
       "      <td>10th grade</td>\n",
       "      <td>0</td>\n",
       "      <td>High school</td>\n",
       "      <td>Never married</td>\n",
       "      <td>Not in universe or children</td>\n",
       "      <td>Not in universe</td>\n",
       "      <td>...</td>\n",
       "      <td>Vietnam</td>\n",
       "      <td>Vietnam</td>\n",
       "      <td>Vietnam</td>\n",
       "      <td>Foreign born- Not a citizen of U S</td>\n",
       "      <td>0</td>\n",
       "      <td>Not in universe</td>\n",
       "      <td>2</td>\n",
       "      <td>0</td>\n",
       "      <td>95</td>\n",
       "      <td>- 50000.</td>\n",
       "    </tr>\n",
       "    <tr>\n",
       "      <th>3</th>\n",
       "      <td>9</td>\n",
       "      <td>Not in universe</td>\n",
       "      <td>0</td>\n",
       "      <td>0</td>\n",
       "      <td>Children</td>\n",
       "      <td>0</td>\n",
       "      <td>Not in universe</td>\n",
       "      <td>Never married</td>\n",
       "      <td>Not in universe or children</td>\n",
       "      <td>Not in universe</td>\n",
       "      <td>...</td>\n",
       "      <td>United-States</td>\n",
       "      <td>United-States</td>\n",
       "      <td>United-States</td>\n",
       "      <td>Native- Born in the United States</td>\n",
       "      <td>0</td>\n",
       "      <td>Not in universe</td>\n",
       "      <td>0</td>\n",
       "      <td>0</td>\n",
       "      <td>94</td>\n",
       "      <td>- 50000.</td>\n",
       "    </tr>\n",
       "    <tr>\n",
       "      <th>4</th>\n",
       "      <td>10</td>\n",
       "      <td>Not in universe</td>\n",
       "      <td>0</td>\n",
       "      <td>0</td>\n",
       "      <td>Children</td>\n",
       "      <td>0</td>\n",
       "      <td>Not in universe</td>\n",
       "      <td>Never married</td>\n",
       "      <td>Not in universe or children</td>\n",
       "      <td>Not in universe</td>\n",
       "      <td>...</td>\n",
       "      <td>United-States</td>\n",
       "      <td>United-States</td>\n",
       "      <td>United-States</td>\n",
       "      <td>Native- Born in the United States</td>\n",
       "      <td>0</td>\n",
       "      <td>Not in universe</td>\n",
       "      <td>0</td>\n",
       "      <td>0</td>\n",
       "      <td>94</td>\n",
       "      <td>- 50000.</td>\n",
       "    </tr>\n",
       "  </tbody>\n",
       "</table>\n",
       "<p>5 rows × 42 columns</p>\n",
       "</div>"
      ],
      "text/plain": [
       "   0                                1   2   3                            4   \\\n",
       "0  73                  Not in universe   0   0         High school graduate   \n",
       "1  58   Self-employed-not incorporated   4  34   Some college but no degree   \n",
       "2  18                  Not in universe   0   0                   10th grade   \n",
       "3   9                  Not in universe   0   0                     Children   \n",
       "4  10                  Not in universe   0   0                     Children   \n",
       "\n",
       "   5                 6               7                             8   \\\n",
       "0   0   Not in universe         Widowed   Not in universe or children   \n",
       "1   0   Not in universe        Divorced                  Construction   \n",
       "2   0       High school   Never married   Not in universe or children   \n",
       "3   0   Not in universe   Never married   Not in universe or children   \n",
       "4   0   Not in universe   Never married   Not in universe or children   \n",
       "\n",
       "                                     9   ...              32              33  \\\n",
       "0                       Not in universe  ...   United-States   United-States   \n",
       "1   Precision production craft & repair  ...   United-States   United-States   \n",
       "2                       Not in universe  ...         Vietnam         Vietnam   \n",
       "3                       Not in universe  ...   United-States   United-States   \n",
       "4                       Not in universe  ...   United-States   United-States   \n",
       "\n",
       "               34                                    35 36                37  \\\n",
       "0   United-States     Native- Born in the United States  0   Not in universe   \n",
       "1   United-States     Native- Born in the United States  0   Not in universe   \n",
       "2         Vietnam   Foreign born- Not a citizen of U S   0   Not in universe   \n",
       "3   United-States     Native- Born in the United States  0   Not in universe   \n",
       "4   United-States     Native- Born in the United States  0   Not in universe   \n",
       "\n",
       "   38  39  40         41  \n",
       "0   2   0  95   - 50000.  \n",
       "1   2  52  94   - 50000.  \n",
       "2   2   0  95   - 50000.  \n",
       "3   0   0  94   - 50000.  \n",
       "4   0   0  94   - 50000.  \n",
       "\n",
       "[5 rows x 42 columns]"
      ]
     },
     "metadata": {},
     "execution_count": 47
    }
   ],
   "metadata": {}
  },
  {
   "cell_type": "code",
   "execution_count": 48,
   "source": [
    "census.shape"
   ],
   "outputs": [
    {
     "output_type": "execute_result",
     "data": {
      "text/plain": [
       "(199523, 42)"
      ]
     },
     "metadata": {},
     "execution_count": 48
    }
   ],
   "metadata": {}
  },
  {
   "cell_type": "code",
   "execution_count": 49,
   "source": [
    "census.columns"
   ],
   "outputs": [
    {
     "output_type": "execute_result",
     "data": {
      "text/plain": [
       "Int64Index([ 0,  1,  2,  3,  4,  5,  6,  7,  8,  9, 10, 11, 12, 13, 14, 15, 16,\n",
       "            17, 18, 19, 20, 21, 22, 23, 24, 25, 26, 27, 28, 29, 30, 31, 32, 33,\n",
       "            34, 35, 36, 37, 38, 39, 40, 41],\n",
       "           dtype='int64')"
      ]
     },
     "metadata": {},
     "execution_count": 49
    }
   ],
   "metadata": {}
  },
  {
   "cell_type": "markdown",
   "source": [
    "**Data Definition**"
   ],
   "metadata": {}
  },
  {
   "cell_type": "code",
   "execution_count": 50,
   "source": [
    "# Creating list of column names to apply to dataframe\r\n",
    "column_names = ['age', 'worker_class', 'industry_recode', 'occupation_recode', 'education',\r\n",
    "                'wage_per_hour', 'edu_enroll_last_week', 'marital_stat', 'industry_code',\r\n",
    "                'occupation_code', 'race', 'hispanic_origin', 'sex', 'member_of_union', 'reason_unemployment',\r\n",
    "                'employment_stat', 'capital_gains', 'capital_losses', 'stock_divs', 'tax_filler_stat',\r\n",
    "                'region_prev_residence', 'state_prev_residence', 'household_family_stat', 'household_summary_in',\r\n",
    "                'instance_weight', 'migration_code_change_msa', 'migration_code_change_reg',\r\n",
    "                'migration_codemove_reg', 'in_house_one_yearago', 'migration_prev_res_sunbelt', 'persons_worked_for_employer',\r\n",
    "                'family_members_under_18', 'country_of_birth_father', 'country_of_birth_mother', 'country_of_birth', \r\n",
    "                'citizenship', 'own_business_or_self_employed', 'veterans_questionnaire', 'veterans_benefits', \r\n",
    "                'weeks_worked_year', 'year', 'income']"
   ],
   "outputs": [],
   "metadata": {}
  },
  {
   "cell_type": "code",
   "execution_count": 51,
   "source": [
    "# Setting column names for both data sets\r\n",
    "census.columns = column_names"
   ],
   "outputs": [],
   "metadata": {}
  },
  {
   "cell_type": "markdown",
   "source": [
    "**Overview**\r\n",
    "\r\n",
    "There are a total of 42 columns in this data set. The goal here would be to determine the viablity of each column as it pertains to the project analysis. Some of these columns might not be usable in this analysis. While others will need some wrangling to ensure that are used appropriately.\r\n",
    "\r\n",
    "What variables could affect the income level of an indivudial?\r\n",
    "- age \r\n",
    "- race\r\n",
    "- industry\r\n",
    "- occupation\r\n",
    "- education\r\n",
    "- hours worked\r\n",
    "- marital status\r\n",
    "- region\r\n",
    "- dependants\r\n",
    "\r\n",
    "\r\n",
    "There are likely more variables that play into this, but this is a good start point for now."
   ],
   "metadata": {}
  },
  {
   "cell_type": "code",
   "execution_count": 52,
   "source": [
    "# checking unique values\r\n",
    "census.income.unique()"
   ],
   "outputs": [
    {
     "output_type": "execute_result",
     "data": {
      "text/plain": [
       "array([' - 50000.', ' 50000+.'], dtype=object)"
      ]
     },
     "metadata": {},
     "execution_count": 52
    }
   ],
   "metadata": {
    "scrolled": true
   }
  },
  {
   "cell_type": "code",
   "execution_count": 53,
   "source": [
    "# assigning 1 or 0 based on income category\r\n",
    "census.income = pd.Series(np.where(census.income.values == ' 50000+.', 1, 0),\r\n",
    "                       census.index)\r\n",
    "\r\n",
    "# sanity check\r\n",
    "print(census.income.value_counts())"
   ],
   "outputs": [
    {
     "output_type": "stream",
     "name": "stdout",
     "text": [
      "0    187141\n",
      "1     12382\n",
      "Name: income, dtype: int64\n"
     ]
    }
   ],
   "metadata": {}
  },
  {
   "cell_type": "code",
   "execution_count": 54,
   "source": [
    "# dropping irrelevant columns\r\n",
    "census.drop(columns=['industry_recode', 'occupation_recode', 'weeks_worked_year'], inplace=True)"
   ],
   "outputs": [],
   "metadata": {
    "scrolled": true
   }
  },
  {
   "cell_type": "markdown",
   "source": [
    "The majority of the population are under 40 years of age. \n",
    "Persons under 16 will most likely not be making an income and therefore are not applicable to this particluar problem."
   ],
   "metadata": {}
  },
  {
   "cell_type": "code",
   "execution_count": 55,
   "source": [
    "# removed entries under the age of 16\r\n",
    "census = census[census.age >= 18]"
   ],
   "outputs": [],
   "metadata": {}
  },
  {
   "cell_type": "code",
   "execution_count": 56,
   "source": [
    "census.shape"
   ],
   "outputs": [
    {
     "output_type": "execute_result",
     "data": {
      "text/plain": [
       "(143531, 39)"
      ]
     },
     "metadata": {},
     "execution_count": 56
    }
   ],
   "metadata": {
    "scrolled": false
   }
  },
  {
   "cell_type": "markdown",
   "source": [
    "Here the education column is getting reorganized and cleaned for analysis"
   ],
   "metadata": {}
  },
  {
   "cell_type": "code",
   "execution_count": 57,
   "source": [
    "census['education'] = census.loc[:, ('education')].str.replace(' ', '')\r\n",
    "census.education.unique()"
   ],
   "outputs": [
    {
     "output_type": "execute_result",
     "data": {
      "text/plain": [
       "array(['Highschoolgraduate', 'Somecollegebutnodegree', '10thgrade',\n",
       "       'Bachelorsdegree(BAABBS)', 'Mastersdegree(MAMSMEngMEdMSWMBA)',\n",
       "       'Lessthan1stgrade', 'Associatesdegree-academicprogram',\n",
       "       '7thand8thgrade', '12thgradenodiploma',\n",
       "       'Associatesdegree-occup/vocational',\n",
       "       'Profschooldegree(MDDDSDVMLLBJD)', '5thor6thgrade', '11thgrade',\n",
       "       'Doctoratedegree(PhDEdD)', '9thgrade', '1st2nd3rdor4thgrade'],\n",
       "      dtype=object)"
      ]
     },
     "metadata": {},
     "execution_count": 57
    }
   ],
   "metadata": {
    "scrolled": false
   }
  },
  {
   "cell_type": "markdown",
   "source": [
    "Cleaning and organizing the age column.\n",
    "\n",
    "- NoHighschool = 10thgrade, Lessthan1stgrade, 7thand8thgrade, 12thgradenodiploma, 5thor6thgrade, 11thgrade, 9thgrade, 1st2nd3rdor4thgrade\n",
    "\n",
    "- Highschool = Highschoolgraduate, Somecollegebutnodegree\n",
    "- AssociatesDegree = Associatesdegree-academicprogram, Associatesdegree-occup/vocational\n",
    "- BachelorsDegree = Bachelorsdegree(BAABBS)\n",
    "- MastersDegree = Mastersdegree(MAMSMEngMEdMSWMBA)\n",
    "- MedSchool = Profschooldegree(MDDDSDVMLLBJD)\n",
    "- DoctorateDegree = Doctoratedegree(PhDEdD)"
   ],
   "metadata": {}
  },
  {
   "cell_type": "code",
   "execution_count": 58,
   "source": [
    "# creating a set of variable for replacing the old values in the education column\r\n",
    "noHighSchool = ['10thgrade', 'Lessthan1stgrade', '7thand8thgrade', \r\n",
    "                '12thgradenodiploma', '5thor6thgrade', '11thgrade', '9thgrade', '1st2nd3rdor4thgrade']\r\n",
    "\r\n",
    "highschool = ['Highschoolgraduate', 'Somecollegebutnodegree']\r\n",
    "\r\n",
    "associates = ['Associatesdegree-academicprogram', 'Associatesdegree-occup/vocational']\r\n",
    "BachelorsDegree = 'Bachelorsdegree(BAABBS)'\r\n",
    "MastersDegree = 'Mastersdegree(MAMSMEngMEdMSWMBA)'\r\n",
    "MedSchool = 'Profschooldegree(MDDDSDVMLLBJD)'\r\n",
    "DoctorateDegree = 'Doctoratedegree(PhDEdD)'"
   ],
   "outputs": [],
   "metadata": {}
  },
  {
   "cell_type": "code",
   "execution_count": 59,
   "source": [
    "# Replacing old values with new\r\n",
    "for i in noHighSchool:\r\n",
    "    census.loc[census.education == i, 'education'] = 'NoHighSchool'\r\n",
    "    \r\n",
    "for i in highschool:\r\n",
    "    census.loc[census.education == i, 'education'] = 'HighSchool'\r\n",
    "\r\n",
    "for i in associates:\r\n",
    "    census.loc[census.education == i, 'education'] = 'AssociatesDegree'\r\n",
    "\r\n",
    "census.loc[census.education == 'Bachelorsdegree(BAABBS)', 'education'] = 'BachelorsDegree'\r\n",
    "census.loc[census.education == 'Mastersdegree(MAMSMEngMEdMSWMBA)', 'education'] = 'MastersDegree'\r\n",
    "census.loc[census.education == 'Profschooldegree(MDDDSDVMLLBJD)', 'education'] = 'MedSchool'\r\n",
    "census.loc[census.education == 'Doctoratedegree(PhDEdD)', 'education'] = 'DoctorateDegree'"
   ],
   "outputs": [],
   "metadata": {}
  },
  {
   "cell_type": "code",
   "execution_count": 60,
   "source": [
    "census.education.unique()\r\n",
    "\r\n",
    "# Success!"
   ],
   "outputs": [
    {
     "output_type": "execute_result",
     "data": {
      "text/plain": [
       "array(['HighSchool', 'NoHighSchool', 'BachelorsDegree', 'MastersDegree',\n",
       "       'AssociatesDegree', 'MedSchool', 'DoctorateDegree'], dtype=object)"
      ]
     },
     "metadata": {},
     "execution_count": 60
    }
   ],
   "metadata": {}
  },
  {
   "cell_type": "code",
   "execution_count": 61,
   "source": [
    "fig, ax = plt.subplots(figsize=(12, 6))\r\n",
    "order = ['NoHighSchool', 'HighSchool', 'AssociatesDegree', 'BachelorsDegree', 'MastersDegree', 'DoctorateDegree', 'MedSchool']\r\n",
    "\r\n",
    "sns.countplot(x='education', data=census, order=order)\r\n",
    "ax.set(xlabel='Education', ylabel='Count')"
   ],
   "outputs": [
    {
     "output_type": "execute_result",
     "data": {
      "text/plain": [
       "[Text(0.5, 0, 'Education'), Text(0, 0.5, 'Count')]"
      ]
     },
     "metadata": {},
     "execution_count": 61
    },
    {
     "output_type": "display_data",
     "data": {
      "image/png": "[encoded data removed]",
      "text/plain": [
       "<Figure size 864x432 with 1 Axes>"
      ]
     },
     "metadata": {
      "needs_background": "light"
     }
    }
   ],
   "metadata": {}
  },
  {
   "cell_type": "code",
   "execution_count": 62,
   "source": [
    "census['year'].value_counts()"
   ],
   "outputs": [
    {
     "output_type": "execute_result",
     "data": {
      "text/plain": [
       "95    71811\n",
       "94    71720\n",
       "Name: year, dtype: int64"
      ]
     },
     "metadata": {},
     "execution_count": 62
    }
   ],
   "metadata": {}
  },
  {
   "cell_type": "markdown",
   "source": [
    "Is the census year relavent? "
   ],
   "metadata": {}
  },
  {
   "cell_type": "code",
   "execution_count": 63,
   "source": [
    "incomes_94 = census.loc[census.year == 94, 'income'].value_counts()\r\n",
    "incomes_95 = census.loc[census.year == 95, 'income'].value_counts()\r\n",
    "\r\n",
    "print('1995 census income category counts\\n')\r\n",
    "print(incomes_95)\r\n",
    "print('\\n1994 income category counts\\n')\r\n",
    "print(incomes_94)\r\n",
    "print('\\nThe difference between years. Remember the value of 1 denotes more than 50,000.\\n')\r\n",
    "print(incomes_95 - incomes_94)"
   ],
   "outputs": [
    {
     "output_type": "stream",
     "name": "stdout",
     "text": [
      "1995 census income category counts\n",
      "\n",
      "0    65269\n",
      "1     6542\n",
      "Name: income, dtype: int64\n",
      "\n",
      "1994 income category counts\n",
      "\n",
      "0    65882\n",
      "1     5838\n",
      "Name: income, dtype: int64\n",
      "\n",
      "The difference between years. Remember the value of 1 denotes more than 50,000.\n",
      "\n",
      "0   -613\n",
      "1    704\n",
      "Name: income, dtype: int64\n"
     ]
    }
   ],
   "metadata": {}
  },
  {
   "cell_type": "code",
   "execution_count": 64,
   "source": [
    "census.age.describe()"
   ],
   "outputs": [
    {
     "output_type": "execute_result",
     "data": {
      "text/plain": [
       "count    143531.000000\n",
       "mean         44.688249\n",
       "std          17.649001\n",
       "min          18.000000\n",
       "25%          31.000000\n",
       "50%          42.000000\n",
       "75%          57.000000\n",
       "max          90.000000\n",
       "Name: age, dtype: float64"
      ]
     },
     "metadata": {},
     "execution_count": 64
    }
   ],
   "metadata": {}
  },
  {
   "cell_type": "code",
   "execution_count": 65,
   "source": [
    "fig, ax = plt.subplots()\r\n",
    "sns.boxplot(y='age', data=census)\r\n",
    "sns.displot(x='age', data=census)"
   ],
   "outputs": [
    {
     "output_type": "execute_result",
     "data": {
      "text/plain": [
       "<seaborn.axisgrid.FacetGrid at 0x299557864c0>"
      ]
     },
     "metadata": {},
     "execution_count": 65
    },
    {
     "output_type": "display_data",
     "data": {
      "image/png": "[encoded data removed]",
      "text/plain": [
       "<Figure size 432x288 with 1 Axes>"
      ]
     },
     "metadata": {
      "needs_background": "light"
     }
    },
    {
     "output_type": "display_data",
     "data": {
      "image/png": "[encoded data removed]",
      "text/plain": [
       "<Figure size 360x360 with 1 Axes>"
      ]
     },
     "metadata": {
      "needs_background": "light"
     }
    }
   ],
   "metadata": {
    "scrolled": false
   }
  },
  {
   "cell_type": "code",
   "execution_count": 66,
   "source": [
    "census.race.value_counts()"
   ],
   "outputs": [
    {
     "output_type": "execute_result",
     "data": {
      "text/plain": [
       " White                          122663\n",
       " Black                           13204\n",
       " Asian or Pacific Islander        4133\n",
       " Other                            2149\n",
       " Amer Indian Aleut or Eskimo      1382\n",
       "Name: race, dtype: int64"
      ]
     },
     "metadata": {},
     "execution_count": 66
    }
   ],
   "metadata": {
    "scrolled": true
   }
  },
  {
   "cell_type": "markdown",
   "source": [
    "According to some research the African American population accounted for about 13% of the total.\r\n",
    "But for some reason this data does not represent that. Here the percentage is closer to 9%\r\n",
    "This could be a prime example of issues that come with sampling. This specific data set is the US Census, not a well thought out and properly conducted experiment. "
   ],
   "metadata": {}
  },
  {
   "cell_type": "code",
   "execution_count": 67,
   "source": [
    "# removing extra whitespace\r\n",
    "census['sex'] = census.loc[:, ('sex')].str.replace(' ', '')"
   ],
   "outputs": [],
   "metadata": {}
  },
  {
   "cell_type": "code",
   "execution_count": 68,
   "source": [
    "census.sex.value_counts()"
   ],
   "outputs": [
    {
     "output_type": "execute_result",
     "data": {
      "text/plain": [
       "Female    76407\n",
       "Male      67124\n",
       "Name: sex, dtype: int64"
      ]
     },
     "metadata": {},
     "execution_count": 68
    }
   ],
   "metadata": {}
  },
  {
   "cell_type": "code",
   "execution_count": 69,
   "source": [
    "census.loc[census['sex'] == 'Female', 'income'].value_counts()\r\n"
   ],
   "outputs": [
    {
     "output_type": "execute_result",
     "data": {
      "text/plain": [
       "0    73746\n",
       "1     2661\n",
       "Name: income, dtype: int64"
      ]
     },
     "metadata": {},
     "execution_count": 69
    }
   ],
   "metadata": {}
  },
  {
   "cell_type": "code",
   "execution_count": 70,
   "source": [
    "2663/76547"
   ],
   "outputs": [
    {
     "output_type": "execute_result",
     "data": {
      "text/plain": [
       "0.03478908383084902"
      ]
     },
     "metadata": {},
     "execution_count": 70
    }
   ],
   "metadata": {
    "scrolled": true
   }
  },
  {
   "cell_type": "markdown",
   "source": [
    "76547 Females in this survey made less than 50k\\\n",
    "2663 Females made more than 50k\\\n",
    "\\\n",
    "The percentage of female earners above 50k is 3.48%"
   ],
   "metadata": {}
  },
  {
   "cell_type": "code",
   "execution_count": 71,
   "source": [
    "census.loc[census['sex'] == 'Male', 'income'].value_counts()\r\n"
   ],
   "outputs": [
    {
     "output_type": "execute_result",
     "data": {
      "text/plain": [
       "0    57405\n",
       "1     9719\n",
       "Name: income, dtype: int64"
      ]
     },
     "metadata": {},
     "execution_count": 71
    }
   ],
   "metadata": {}
  },
  {
   "cell_type": "code",
   "execution_count": 72,
   "source": [
    "9719/60246"
   ],
   "outputs": [
    {
     "output_type": "execute_result",
     "data": {
      "text/plain": [
       "0.1613219134880324"
      ]
     },
     "metadata": {},
     "execution_count": 72
    }
   ],
   "metadata": {}
  },
  {
   "cell_type": "markdown",
   "source": [
    "60246 Males made less than 50k\\\n",
    "9719 Males made more than 50k\\\n",
    "\\\n",
    "The percentage of male earners above 50k is 16.13%"
   ],
   "metadata": {}
  },
  {
   "cell_type": "code",
   "execution_count": 73,
   "source": [
    "census.employment_stat.unique()"
   ],
   "outputs": [
    {
     "output_type": "execute_result",
     "data": {
      "text/plain": [
       "array([' Not in labor force', ' Children or Armed Forces',\n",
       "       ' Full-time schedules', ' Unemployed full-time',\n",
       "       ' Unemployed part- time', ' PT for non-econ reasons usually FT',\n",
       "       ' PT for econ reasons usually PT',\n",
       "       ' PT for econ reasons usually FT'], dtype=object)"
      ]
     },
     "metadata": {},
     "execution_count": 73
    }
   ],
   "metadata": {}
  },
  {
   "cell_type": "code",
   "execution_count": 74,
   "source": [
    "census.employment_stat.value_counts()"
   ],
   "outputs": [
    {
     "output_type": "execute_result",
     "data": {
      "text/plain": [
       " Children or Armed Forces              72106\n",
       " Full-time schedules                   39761\n",
       " Not in labor force                    23793\n",
       " PT for non-econ reasons usually FT     3272\n",
       " Unemployed full-time                   2267\n",
       " PT for econ reasons usually PT         1205\n",
       " Unemployed part- time                   604\n",
       " PT for econ reasons usually FT          523\n",
       "Name: employment_stat, dtype: int64"
      ]
     },
     "metadata": {},
     "execution_count": 74
    }
   ],
   "metadata": {}
  },
  {
   "cell_type": "markdown",
   "source": [
    "Below the values of the employment_stat column will be reassigned to numerical values in order to simplify and make modeling easier.  \r\n",
    "\r\n",
    "\r\n",
    "0 = Unemployed\r\n",
    "\r\n",
    "\r\n",
    "1 = Employed Full Time\r\n",
    "\r\n",
    "\r\n",
    "2 = Employed Part Time\r\n",
    "\r\n",
    "3 = Armed Forces or Children\r\n",
    "\r\n",
    "4 = Not in Labor Force... Most likely meaning elderly or disabled"
   ],
   "metadata": {}
  },
  {
   "cell_type": "code",
   "execution_count": 77,
   "source": [
    "census.loc[(census.employment_stat == ' Full-time schedules'),'employment_stat'] = 1\r\n",
    "census.loc[(census.employment_stat == ' Children or Armed Forces'),'employment_stat'] = 3\r\n",
    "census.loc[(census.employment_stat == ' Not in labor force'),'employment_stat'] = 4\r\n",
    "census.loc[(census.employment_stat == ' PT for non-econ reasons usually FT'),'employment_stat'] = 2\r\n",
    "census.loc[(census.employment_stat == ' Unemployed full-time'),'employment_stat'] = 0\r\n",
    "census.loc[(census.employment_stat == ' PT for econ reasons usually PT'),'employment_stat'] = 2\r\n",
    "census.loc[(census.employment_stat == ' PT for econ reasons usually FT'),'employment_stat'] = 2\r\n",
    "census.loc[(census.employment_stat == ' Unemployed part- time'),'employment_stat'] = 0"
   ],
   "outputs": [],
   "metadata": {}
  },
  {
   "cell_type": "code",
   "execution_count": 78,
   "source": [
    "# Sanity Check\r\n",
    "census.employment_stat.value_counts()"
   ],
   "outputs": [
    {
     "output_type": "execute_result",
     "data": {
      "text/plain": [
       "3    72106\n",
       "1    39761\n",
       "4    23793\n",
       "2     5000\n",
       "0     2871\n",
       "Name: employment_stat, dtype: int64"
      ]
     },
     "metadata": {},
     "execution_count": 78
    }
   ],
   "metadata": {}
  },
  {
   "cell_type": "markdown",
   "source": [
    "# Unfortunately\r\n",
    "\r\n",
    "It appears as though our data might be skewed...\r\n",
    "There are significantly more military individuals than you would expect from census data."
   ],
   "metadata": {}
  },
  {
   "cell_type": "code",
   "execution_count": 94,
   "source": [
    "census.age[census.employment_stat == 3].describe()"
   ],
   "outputs": [
    {
     "output_type": "execute_result",
     "data": {
      "text/plain": [
       "count    72106.000000\n",
       "mean        44.557942\n",
       "std         17.687397\n",
       "min         18.000000\n",
       "25%         30.000000\n",
       "50%         41.000000\n",
       "75%         57.000000\n",
       "max         90.000000\n",
       "Name: age, dtype: float64"
      ]
     },
     "metadata": {},
     "execution_count": 94
    }
   ],
   "metadata": {}
  },
  {
   "cell_type": "code",
   "execution_count": 95,
   "source": [
    "census.age[census.employment_stat == 3].hist()"
   ],
   "outputs": [
    {
     "output_type": "execute_result",
     "data": {
      "text/plain": [
       "<AxesSubplot:>"
      ]
     },
     "metadata": {},
     "execution_count": 95
    },
    {
     "output_type": "display_data",
     "data": {
      "image/png": "[encoded data removed]",
      "text/plain": [
       "<Figure size 432x288 with 1 Axes>"
      ]
     },
     "metadata": {
      "needs_background": "light"
     }
    }
   ],
   "metadata": {}
  },
  {
   "cell_type": "code",
   "execution_count": 107,
   "source": [
    "census.veterans_benefits[census.employment_stat == 3].value_counts()"
   ],
   "outputs": [
    {
     "output_type": "execute_result",
     "data": {
      "text/plain": [
       "2    71117\n",
       "1      989\n",
       "Name: veterans_benefits, dtype: int64"
      ]
     },
     "metadata": {},
     "execution_count": 107
    }
   ],
   "metadata": {}
  },
  {
   "cell_type": "code",
   "execution_count": 113,
   "source": [
    "census.veterans_benefits[census.employment_stat == 3].unique()"
   ],
   "outputs": [
    {
     "output_type": "execute_result",
     "data": {
      "text/plain": [
       "array([2, 1], dtype=int64)"
      ]
     },
     "metadata": {},
     "execution_count": 113
    }
   ],
   "metadata": {}
  },
  {
   "cell_type": "markdown",
   "source": [
    "The above counted values of the veterans benefits column shows that indeed all but 989 individuals has benefits. Which would indicate service in the armed forces."
   ],
   "metadata": {}
  },
  {
   "cell_type": "code",
   "execution_count": 108,
   "source": [
    "census.veterans_questionnaire[census.employment_stat == 3].value_counts()"
   ],
   "outputs": [
    {
     "output_type": "execute_result",
     "data": {
      "text/plain": [
       " Not in universe    71117\n",
       " No                   793\n",
       " Yes                  196\n",
       "Name: veterans_questionnaire, dtype: int64"
      ]
     },
     "metadata": {},
     "execution_count": 108
    }
   ],
   "metadata": {}
  },
  {
   "cell_type": "code",
   "execution_count": 110,
   "source": [
    "# Lets remove the veterans_questionnaire column as it does not appear to have any value to this analysis.\r\n",
    "\r\n",
    "census = census.drop(columns='veterans_questionnaire')"
   ],
   "outputs": [],
   "metadata": {}
  },
  {
   "cell_type": "code",
   "execution_count": 88,
   "source": [
    "# Here I will check the age of all those that fall into the Armed Forces or Children category just to be sure it is as it should be.\r\n",
    "\r\n",
    "ax = sns.lineplot(x='employment_stat', y='age', data=census)"
   ],
   "outputs": [
    {
     "output_type": "display_data",
     "data": {
      "image/png": "[encoded data removed]",
      "text/plain": [
       "<Figure size 432x288 with 1 Axes>"
      ]
     },
     "metadata": {
      "needs_background": "light"
     }
    }
   ],
   "metadata": {}
  }
 ],
 "metadata": {
  "kernelspec": {
   "name": "python3",
   "display_name": "Python 3.8.5 64-bit ('base': conda)"
  },
  "language_info": {
   "codemirror_mode": {
    "name": "ipython",
    "version": 3
   },
   "file_extension": ".py",
   "mimetype": "text/x-python",
   "name": "python",
   "nbconvert_exporter": "python",
   "pygments_lexer": "ipython3",
   "version": "3.8.5"
  },
  "interpreter": {
   "hash": "b3ba2566441a7c06988d0923437866b63cedc61552a5af99d1f4fb67d367b25f"
  }
 },
 "nbformat": 4,
 "nbformat_minor": 4
}