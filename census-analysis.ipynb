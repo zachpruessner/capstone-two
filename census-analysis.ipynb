{
 "cells": [
  {
   "cell_type": "markdown",
   "metadata": {},
   "source": [
    "# Census Analysis"
   ]
  },
  {
   "cell_type": "markdown",
   "metadata": {},
   "source": [
    "### Contents\n",
    "1. Data Wrangling -- collect, organize, define, clean\n",
    "2. Exploratory Data Analysis\n",
    "3. Feature Engineering, Pre-processing, Training\n",
    "4. Modeling\n",
    "5. Summary and Documentation"
   ]
  },
  {
   "cell_type": "markdown",
   "metadata": {},
   "source": [
    "The goal of this project is to predict income levels based on data collected in the US census. The income levels are binned at below 50K and above 50K. This is a biniary classification problem.\n",
    "The full dataset will be split into two parts. One for training at 2/3 of the full set. And the other for testing at 1/3 of the full set."
   ]
  },
  {
   "cell_type": "markdown",
   "metadata": {},
   "source": [
    "**Initial Data Collection and Clean**"
   ]
  },
  {
   "cell_type": "code",
   "execution_count": 1,
   "metadata": {},
   "outputs": [],
   "source": [
    "# Importing necessary modules\n",
    "import pandas as pd\n",
    "import numpy as np\n",
    "import matplotlib.pyplot as plt\n",
    "import seaborn as sns\n",
    "import statsmodels.api as sm\n",
    "from statsmodels.graphics.api import abline_plot\n",
    "from sklearn.model_selection import train_test_split"
   ]
  },
  {
   "cell_type": "code",
   "execution_count": null,
   "metadata": {},
   "outputs": [],
   "source": [
    "# Loading in data as csv file\n",
    "census = pd.read_csv('data/census-data.csv', header=None)"
   ]
  },
  {
   "cell_type": "code",
   "execution_count": null,
   "metadata": {},
   "outputs": [],
   "source": [
    "census.head()"
   ]
  },
  {
   "cell_type": "code",
   "execution_count": null,
   "metadata": {},
   "outputs": [],
   "source": [
    "census.shape"
   ]
  },
  {
   "cell_type": "code",
   "execution_count": null,
   "metadata": {},
   "outputs": [],
   "source": [
    "census.columns"
   ]
  },
  {
   "cell_type": "markdown",
   "metadata": {},
   "source": [
    "**Data Definition**"
   ]
  },
  {
   "cell_type": "code",
   "execution_count": null,
   "metadata": {},
   "outputs": [],
   "source": [
    "# Creating list of column names to apply to dataframe\n",
    "column_names = ['age', 'worker_class', 'industry_recode', 'occupation_recode', 'education',\n",
    "                'wage_per_hour', 'edu_enroll_last_week', 'marital_stat', 'industry_code',\n",
    "                'occupation_code', 'race', 'hispanic_origin', 'sex', 'member_of_union', 'reason_unemployment',\n",
    "                'employment_stat', 'capital_gains', 'capital_losses', 'stock_divs', 'tax_filler_stat',\n",
    "                'region_prev_residence', 'state_prev_residence', 'household_family_stat', 'household_summary_in',\n",
    "                'instance_weight', 'migration_code_change_msa', 'migration_code_change_reg',\n",
    "                'migration_codemove_reg', 'in_house_one_yearago', 'migration_prev_res_sunbelt', 'persons_worked_for_employer',\n",
    "                'family_members_under_18', 'country_of_birth_father', 'country_of_birth_mother', 'country_of_birth', \n",
    "                'citizenship', 'own_business_or_self_employed', 'veterans_questionnaire', 'veterans_benefits', \n",
    "                'weeks_worked_year', 'year', 'income']"
   ]
  },
  {
   "cell_type": "code",
   "execution_count": null,
   "metadata": {},
   "outputs": [],
   "source": [
    "# Setting column names for both data sets\n",
    "census.columns = column_names"
   ]
  },
  {
   "cell_type": "markdown",
   "metadata": {},
   "source": [
    "**Overview**\n",
    "\n",
    "There are a total of 42 columns in this data set. The goal here would be to determine the viablity of each column as it pertains to the project analysis. Some of these columns might not be usable in this analysis. While others will need some wrangling to ensure that are used appropriately.\n",
    "\n",
    "What variables could affect the income level of an indivudial?\n",
    "- age \n",
    "- race\n",
    "- industry\n",
    "- occupation\n",
    "- education\n",
    "- hours worked\n",
    "- marital status\n",
    "- region\n",
    "- dependants\n",
    "\n",
    "\n",
    "There are likely more variables that play into this, but this is a good start point for now."
   ]
  },
  {
   "cell_type": "code",
   "execution_count": null,
   "metadata": {
    "scrolled": true
   },
   "outputs": [],
   "source": [
    "# checking unique values\n",
    "census.income.unique()"
   ]
  },
  {
   "cell_type": "code",
   "execution_count": null,
   "metadata": {},
   "outputs": [],
   "source": [
    "# assigning 1 or 0 based on income category\n",
    "census.income = pd.Series(np.where(census.income.values == ' 50000+.', 1, 0),\n",
    "                       census.index)\n",
    "\n",
    "# sanity check\n",
    "print(census.income.value_counts())"
   ]
  },
  {
   "cell_type": "code",
   "execution_count": null,
   "metadata": {
    "scrolled": true
   },
   "outputs": [],
   "source": [
    "# dropping irrelevant columns\n",
    "census.drop(columns=['industry_recode', 'occupation_recode', 'weeks_worked_year'], inplace=True)"
   ]
  },
  {
   "cell_type": "markdown",
   "metadata": {},
   "source": [
    "The majority of the population are under 40 years of age. \n",
    "Persons under 16 will most likely not be making an income and therefore are not applicable to this particluar problem."
   ]
  },
  {
   "cell_type": "code",
   "execution_count": null,
   "metadata": {},
   "outputs": [],
   "source": [
    "# removed entries under the age of 16\n",
    "census = census[census.age >= 18]"
   ]
  },
  {
   "cell_type": "code",
   "execution_count": null,
   "metadata": {
    "scrolled": false
   },
   "outputs": [],
   "source": [
    "census.shape"
   ]
  },
  {
   "cell_type": "markdown",
   "metadata": {},
   "source": [
    "Here the education column is getting reorganized and cleaned for analysis"
   ]
  },
  {
   "cell_type": "code",
   "execution_count": null,
   "metadata": {
    "scrolled": false
   },
   "outputs": [],
   "source": [
    "census['education'] = census.loc[:, ('education')].str.replace(' ', '')\n",
    "census.education.unique()"
   ]
  },
  {
   "cell_type": "markdown",
   "metadata": {},
   "source": [
    "Cleaning and organizing the age column.\n",
    "\n",
    "- NoHighschool = 10thgrade, Lessthan1stgrade, 7thand8thgrade, 12thgradenodiploma, 5thor6thgrade, 11thgrade, 9thgrade, 1st2nd3rdor4thgrade\n",
    "\n",
    "- Highschool = Highschoolgraduate, Somecollegebutnodegree\n",
    "- AssociatesDegree = Associatesdegree-academicprogram, Associatesdegree-occup/vocational\n",
    "- BachelorsDegree = Bachelorsdegree(BAABBS)\n",
    "- MastersDegree = Mastersdegree(MAMSMEngMEdMSWMBA)\n",
    "- MedSchool = Profschooldegree(MDDDSDVMLLBJD)\n",
    "- DoctorateDegree = Doctoratedegree(PhDEdD)"
   ]
  },
  {
   "cell_type": "code",
   "execution_count": null,
   "metadata": {},
   "outputs": [],
   "source": [
    "# creating a set of variable for replacing the old values in the education column\n",
    "noHighSchool = ['10thgrade', 'Lessthan1stgrade', '7thand8thgrade', \n",
    "                '12thgradenodiploma', '5thor6thgrade', '11thgrade', '9thgrade', '1st2nd3rdor4thgrade']\n",
    "\n",
    "highschool = ['Highschoolgraduate', 'Somecollegebutnodegree']\n",
    "\n",
    "associates = ['Associatesdegree-academicprogram', 'Associatesdegree-occup/vocational']\n",
    "BachelorsDegree = 'Bachelorsdegree(BAABBS)'\n",
    "MastersDegree = 'Mastersdegree(MAMSMEngMEdMSWMBA)'\n",
    "MedSchool = 'Profschooldegree(MDDDSDVMLLBJD)'\n",
    "DoctorateDegree = 'Doctoratedegree(PhDEdD)'"
   ]
  },
  {
   "cell_type": "code",
   "execution_count": null,
   "metadata": {},
   "outputs": [],
   "source": [
    "# Replacing old values with new\n",
    "for i in noHighSchool:\n",
    "    census.loc[census.education == i, 'education'] = 'NoHighSchool'\n",
    "    \n",
    "for i in highschool:\n",
    "    census.loc[census.education == i, 'education'] = 'HighSchool'\n",
    "\n",
    "for i in associates:\n",
    "    census.loc[census.education == i, 'education'] = 'AssociatesDegree'\n",
    "\n",
    "census.loc[census.education == 'Bachelorsdegree(BAABBS)', 'education'] = 'BachelorsDegree'\n",
    "census.loc[census.education == 'Mastersdegree(MAMSMEngMEdMSWMBA)', 'education'] = 'MastersDegree'\n",
    "census.loc[census.education == 'Profschooldegree(MDDDSDVMLLBJD)', 'education'] = 'MedSchool'\n",
    "census.loc[census.education == 'Doctoratedegree(PhDEdD)', 'education'] = 'DoctorateDegree'"
   ]
  },
  {
   "cell_type": "code",
   "execution_count": null,
   "metadata": {},
   "outputs": [],
   "source": [
    "census.education.unique()\n",
    "\n",
    "# Success!"
   ]
  },
  {
   "cell_type": "code",
   "execution_count": null,
   "metadata": {},
   "outputs": [],
   "source": [
    "fig, ax = plt.subplots(figsize=(12, 6))\n",
    "order = ['NoHighSchool', 'HighSchool', 'AssociatesDegree', 'BachelorsDegree', 'MastersDegree', 'DoctorateDegree', 'MedSchool']\n",
    "\n",
    "sns.countplot(x='education', data=census, order=order)\n",
    "ax.set(xlabel='Education', ylabel='Count')"
   ]
  },
  {
   "cell_type": "code",
   "execution_count": null,
   "metadata": {},
   "outputs": [],
   "source": [
    "census['year'].value_counts()"
   ]
  },
  {
   "cell_type": "markdown",
   "metadata": {},
   "source": [
    "Is the census year relavent? "
   ]
  },
  {
   "cell_type": "code",
   "execution_count": null,
   "metadata": {},
   "outputs": [],
   "source": [
    "incomes_94 = census.loc[census.year == 94, 'income'].value_counts()\n",
    "incomes_95 = census.loc[census.year == 95, 'income'].value_counts()\n",
    "\n",
    "print('1995 census income category counts\\n')\n",
    "print(incomes_95)\n",
    "print('\\n1994 income category counts\\n')\n",
    "print(incomes_94)\n",
    "print('\\nThe difference between years. Remember the value of 1 denotes more than 50,000.\\n')\n",
    "print(incomes_95 - incomes_94)"
   ]
  },
  {
   "cell_type": "code",
   "execution_count": null,
   "metadata": {},
   "outputs": [],
   "source": [
    "census.age.describe()"
   ]
  },
  {
   "cell_type": "code",
   "execution_count": null,
   "metadata": {
    "scrolled": false
   },
   "outputs": [],
   "source": [
    "fig, ax = plt.subplots()\n",
    "sns.boxplot(y='age', data=census)\n",
    "sns.displot(x='age', data=census)"
   ]
  },
  {
   "cell_type": "code",
   "execution_count": null,
   "metadata": {},
   "outputs": [],
   "source": [
    "# removing extra whitespace\n",
    "census['sex'] = census.loc[:, ('sex')].str.replace(' ', '')"
   ]
  },
  {
   "cell_type": "code",
   "execution_count": null,
   "metadata": {},
   "outputs": [],
   "source": [
    "census.sex.value_counts()"
   ]
  },
  {
   "cell_type": "code",
   "execution_count": null,
   "metadata": {},
   "outputs": [],
   "source": [
    "census.loc[census['sex'] == 'Female', 'income'].value_counts()\n"
   ]
  },
  {
   "cell_type": "code",
   "execution_count": null,
   "metadata": {
    "scrolled": true
   },
   "outputs": [],
   "source": [
    "2663/76547"
   ]
  },
  {
   "cell_type": "markdown",
   "metadata": {},
   "source": [
    "76547 Females in this survey made less than 50k\\\n",
    "2663 Females made more than 50k\\\n",
    "\\\n",
    "The percentage of female earners above 50k is 3.48%"
   ]
  },
  {
   "cell_type": "code",
   "execution_count": null,
   "metadata": {},
   "outputs": [],
   "source": [
    "census.loc[census['sex'] == 'Male', 'income'].value_counts()\n"
   ]
  },
  {
   "cell_type": "code",
   "execution_count": null,
   "metadata": {},
   "outputs": [],
   "source": [
    "9719/60246"
   ]
  },
  {
   "cell_type": "markdown",
   "metadata": {},
   "source": [
    "60246 Males made less than 50k\\\n",
    "9719 Males made more than 50k\\\n",
    "\\\n",
    "The percentage of male earners above 50k is 16.13%"
   ]
  },
  {
   "cell_type": "code",
   "execution_count": null,
   "metadata": {},
   "outputs": [],
   "source": [
    "census.employment_stat.unique()"
   ]
  },
  {
   "cell_type": "code",
   "execution_count": null,
   "metadata": {},
   "outputs": [],
   "source": [
    "census['employment_stat'].str.replace(' ', '_')"
   ]
  },
  {
   "cell_type": "code",
   "execution_count": null,
   "metadata": {},
   "outputs": [],
   "source": [
    "census.employment_stat.value_counts()"
   ]
  },
  {
   "cell_type": "code",
   "execution_count": null,
   "metadata": {},
   "outputs": [],
   "source": [
    "# Lets remove the veterans_questionnaire column as it does not appear to have any value to this analysis.\n",
    "\n",
    "census = census.drop(columns='veterans_questionnaire')"
   ]
  },
  {
   "cell_type": "code",
   "execution_count": null,
   "metadata": {},
   "outputs": [],
   "source": [
    "# Here I will check the age of all those that fall into the Armed Forces or Children category just to be sure it is as it should be.\n",
    "dim = (20, 10)\n",
    "sns.set(font_scale = 2)\n",
    "fig, ax = plt.subplots(figsize=dim)\n",
    "ax.tick_params(axis='x', rotation=90)\n",
    "sns.boxplot(x='employment_stat', y='age', data=census)"
   ]
  },
  {
   "cell_type": "code",
   "execution_count": null,
   "metadata": {},
   "outputs": [],
   "source": [
    "dummies = pd.get_dummies(census)"
   ]
  },
  {
   "cell_type": "code",
   "execution_count": 2,
   "metadata": {},
   "outputs": [
    {
     "ename": "NameError",
     "evalue": "name 'X' is not defined",
     "output_type": "error",
     "traceback": [
      "\u001b[1;31m---------------------------------------------------------------------------\u001b[0m",
      "\u001b[1;31mNameError\u001b[0m                                 Traceback (most recent call last)",
      "\u001b[1;32m<ipython-input-2-8d8eb0fcb9e0>\u001b[0m in \u001b[0;36m<module>\u001b[1;34m\u001b[0m\n\u001b[1;32m----> 1\u001b[1;33m \u001b[0mX_train\u001b[0m\u001b[1;33m,\u001b[0m \u001b[0my_train\u001b[0m\u001b[1;33m,\u001b[0m \u001b[0mX_test\u001b[0m\u001b[1;33m,\u001b[0m \u001b[0my_test\u001b[0m \u001b[1;33m=\u001b[0m \u001b[0mtrain_test_split\u001b[0m\u001b[1;33m(\u001b[0m\u001b[0mX\u001b[0m\u001b[1;33m,\u001b[0m \u001b[0my\u001b[0m\u001b[1;33m,\u001b[0m \u001b[0mtrain_size\u001b[0m\u001b[1;33m=\u001b[0m\u001b[1;36m0.25\u001b[0m\u001b[1;33m,\u001b[0m \u001b[0mrandom_state\u001b[0m\u001b[1;33m=\u001b[0m\u001b[1;36m42\u001b[0m\u001b[1;33m)\u001b[0m\u001b[1;33m\u001b[0m\u001b[1;33m\u001b[0m\u001b[0m\n\u001b[0m",
      "\u001b[1;31mNameError\u001b[0m: name 'X' is not defined"
     ]
    }
   ],
   "source": [
    "X_train, y_train, X_test, y_test = train_test_split(X, y, train_size=0.25, random_state=42)"
   ]
  }
 ],
 "metadata": {
  "interpreter": {
   "hash": "b3ba2566441a7c06988d0923437866b63cedc61552a5af99d1f4fb67d367b25f"
  },
  "kernelspec": {
   "display_name": "Python 3",
   "language": "python",
   "name": "python3"
  },
  "language_info": {
   "codemirror_mode": {
    "name": "ipython",
    "version": 3
   },
   "file_extension": ".py",
   "mimetype": "text/x-python",
   "name": "python",
   "nbconvert_exporter": "python",
   "pygments_lexer": "ipython3",
   "version": "3.8.5"
  }
 },
 "nbformat": 4,
 "nbformat_minor": 4
}
